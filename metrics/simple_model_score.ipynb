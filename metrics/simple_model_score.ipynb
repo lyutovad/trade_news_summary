{
 "cells": [
  {
   "cell_type": "code",
   "execution_count": 2,
   "metadata": {},
   "outputs": [
    {
     "name": "stderr",
     "output_type": "stream",
     "text": [
      "/root/.pyenv/versions/3.12.2/lib/python3.12/site-packages/transformers/utils/generic.py:441: UserWarning: torch.utils._pytree._register_pytree_node is deprecated. Please use torch.utils._pytree.register_pytree_node instead.\n",
      "  _torch_pytree._register_pytree_node(\n"
     ]
    }
   ],
   "source": [
    "import pandas as pd\n",
    "from bert_score import score\n",
    "import torch\n",
    "import tqdm as tq\n",
    "import matplotlib.pyplot as plt\n",
    "import seaborn as sns\n",
    "from transformers import AutoModelForSeq2SeqLM, AutoTokenizer\n",
    "import re\n",
    "from tqdm.notebook import tqdm\n",
    "\n",
    "tqdm.pandas()"
   ]
  },
  {
   "cell_type": "code",
   "execution_count": 3,
   "metadata": {},
   "outputs": [
    {
     "name": "stderr",
     "output_type": "stream",
     "text": [
      "/root/.pyenv/versions/3.12.2/lib/python3.12/site-packages/torch/cuda/__init__.py:628: UserWarning: Can't initialize NVML\n",
      "  warnings.warn(\"Can't initialize NVML\")\n",
      "/root/.pyenv/versions/3.12.2/lib/python3.12/site-packages/transformers/utils/generic.py:309: UserWarning: torch.utils._pytree._register_pytree_node is deprecated. Please use torch.utils._pytree.register_pytree_node instead.\n",
      "  _torch_pytree._register_pytree_node(\n",
      "/root/.pyenv/versions/3.12.2/lib/python3.12/site-packages/transformers/utils/generic.py:309: UserWarning: torch.utils._pytree._register_pytree_node is deprecated. Please use torch.utils._pytree.register_pytree_node instead.\n",
      "  _torch_pytree._register_pytree_node(\n"
     ]
    }
   ],
   "source": [
    "from evaluate import load\n",
    "\n",
    "bertscore = load(\"bertscore\")"
   ]
  },
  {
   "cell_type": "code",
   "execution_count": 4,
   "metadata": {},
   "outputs": [],
   "source": [
    "df = pd.read_csv('text_sum_stats.csv')"
   ]
  },
  {
   "cell_type": "code",
   "execution_count": 5,
   "metadata": {},
   "outputs": [
    {
     "name": "stdout",
     "output_type": "stream",
     "text": [
      "<class 'pandas.core.frame.DataFrame'>\n",
      "RangeIndex: 26921 entries, 0 to 26920\n",
      "Data columns (total 26 columns):\n",
      " #   Column              Non-Null Count  Dtype \n",
      "---  ------              --------------  ----- \n",
      " 0   text                26921 non-null  object\n",
      " 1   raw_product         25730 non-null  object\n",
      " 2   product             14400 non-null  object\n",
      " 3   raw_locations       26921 non-null  object\n",
      " 4   locations           26921 non-null  object\n",
      " 5   news_date           26921 non-null  int64 \n",
      " 6   url                 26921 non-null  object\n",
      " 7   summary             26921 non-null  object\n",
      " 8   lang                26921 non-null  object\n",
      " 9   text_words          26921 non-null  object\n",
      " 10  summary_words       26921 non-null  object\n",
      " 11  text_lemmas         26921 non-null  object\n",
      " 12  summary_lemmas      26921 non-null  object\n",
      " 13  product_lemmas      26921 non-null  object\n",
      " 14  country_lemmas      26921 non-null  object\n",
      " 15  num_summary_sents   26921 non-null  int64 \n",
      " 16  text_len            26921 non-null  int64 \n",
      " 17  summary_len         26921 non-null  int64 \n",
      " 18  text_unique_len     26921 non-null  int64 \n",
      " 19  summary_unique_len  26921 non-null  int64 \n",
      " 20  prod_num            26921 non-null  int64 \n",
      " 21  locs_num            26921 non-null  int64 \n",
      " 22  prod_locs_num       26921 non-null  int64 \n",
      " 23  raw_locs_num        26921 non-null  int64 \n",
      " 24  prod_match          26921 non-null  int64 \n",
      " 25  locs_match          26921 non-null  int64 \n",
      "dtypes: int64(12), object(14)\n",
      "memory usage: 5.3+ MB\n"
     ]
    }
   ],
   "source": [
    "df.info()"
   ]
  },
  {
   "cell_type": "code",
   "execution_count": 6,
   "metadata": {},
   "outputs": [],
   "source": [
    "df = df[['text', 'summary', 'lang', 'news_date']]"
   ]
  },
  {
   "cell_type": "code",
   "execution_count": 7,
   "metadata": {},
   "outputs": [],
   "source": [
    "# df.to_csv('summary_all_data.csv', index=False)"
   ]
  },
  {
   "cell_type": "code",
   "execution_count": 8,
   "metadata": {},
   "outputs": [],
   "source": [
    "df = df[['text', 'summary']]"
   ]
  },
  {
   "cell_type": "code",
   "execution_count": 9,
   "metadata": {},
   "outputs": [],
   "source": [
    "# df.to_csv('text_sum.csv', index=False)"
   ]
  },
  {
   "cell_type": "code",
   "execution_count": 10,
   "metadata": {},
   "outputs": [],
   "source": [
    "df = df.dropna(subset='text')"
   ]
  },
  {
   "cell_type": "code",
   "execution_count": 11,
   "metadata": {},
   "outputs": [],
   "source": [
    "device = torch.device('cuda:1')"
   ]
  },
  {
   "cell_type": "code",
   "execution_count": 12,
   "metadata": {},
   "outputs": [
    {
     "data": {
      "text/plain": [
       "MT5ForConditionalGeneration(\n",
       "  (shared): Embedding(250112, 768)\n",
       "  (encoder): MT5Stack(\n",
       "    (embed_tokens): Embedding(250112, 768)\n",
       "    (block): ModuleList(\n",
       "      (0): MT5Block(\n",
       "        (layer): ModuleList(\n",
       "          (0): MT5LayerSelfAttention(\n",
       "            (SelfAttention): MT5Attention(\n",
       "              (q): Linear(in_features=768, out_features=768, bias=False)\n",
       "              (k): Linear(in_features=768, out_features=768, bias=False)\n",
       "              (v): Linear(in_features=768, out_features=768, bias=False)\n",
       "              (o): Linear(in_features=768, out_features=768, bias=False)\n",
       "              (relative_attention_bias): Embedding(32, 12)\n",
       "            )\n",
       "            (layer_norm): MT5LayerNorm()\n",
       "            (dropout): Dropout(p=0.1, inplace=False)\n",
       "          )\n",
       "          (1): MT5LayerFF(\n",
       "            (DenseReluDense): MT5DenseGatedActDense(\n",
       "              (wi_0): Linear(in_features=768, out_features=2048, bias=False)\n",
       "              (wi_1): Linear(in_features=768, out_features=2048, bias=False)\n",
       "              (wo): Linear(in_features=2048, out_features=768, bias=False)\n",
       "              (dropout): Dropout(p=0.1, inplace=False)\n",
       "              (act): NewGELUActivation()\n",
       "            )\n",
       "            (layer_norm): MT5LayerNorm()\n",
       "            (dropout): Dropout(p=0.1, inplace=False)\n",
       "          )\n",
       "        )\n",
       "      )\n",
       "      (1-11): 11 x MT5Block(\n",
       "        (layer): ModuleList(\n",
       "          (0): MT5LayerSelfAttention(\n",
       "            (SelfAttention): MT5Attention(\n",
       "              (q): Linear(in_features=768, out_features=768, bias=False)\n",
       "              (k): Linear(in_features=768, out_features=768, bias=False)\n",
       "              (v): Linear(in_features=768, out_features=768, bias=False)\n",
       "              (o): Linear(in_features=768, out_features=768, bias=False)\n",
       "            )\n",
       "            (layer_norm): MT5LayerNorm()\n",
       "            (dropout): Dropout(p=0.1, inplace=False)\n",
       "          )\n",
       "          (1): MT5LayerFF(\n",
       "            (DenseReluDense): MT5DenseGatedActDense(\n",
       "              (wi_0): Linear(in_features=768, out_features=2048, bias=False)\n",
       "              (wi_1): Linear(in_features=768, out_features=2048, bias=False)\n",
       "              (wo): Linear(in_features=2048, out_features=768, bias=False)\n",
       "              (dropout): Dropout(p=0.1, inplace=False)\n",
       "              (act): NewGELUActivation()\n",
       "            )\n",
       "            (layer_norm): MT5LayerNorm()\n",
       "            (dropout): Dropout(p=0.1, inplace=False)\n",
       "          )\n",
       "        )\n",
       "      )\n",
       "    )\n",
       "    (final_layer_norm): MT5LayerNorm()\n",
       "    (dropout): Dropout(p=0.1, inplace=False)\n",
       "  )\n",
       "  (decoder): MT5Stack(\n",
       "    (embed_tokens): Embedding(250112, 768)\n",
       "    (block): ModuleList(\n",
       "      (0): MT5Block(\n",
       "        (layer): ModuleList(\n",
       "          (0): MT5LayerSelfAttention(\n",
       "            (SelfAttention): MT5Attention(\n",
       "              (q): Linear(in_features=768, out_features=768, bias=False)\n",
       "              (k): Linear(in_features=768, out_features=768, bias=False)\n",
       "              (v): Linear(in_features=768, out_features=768, bias=False)\n",
       "              (o): Linear(in_features=768, out_features=768, bias=False)\n",
       "              (relative_attention_bias): Embedding(32, 12)\n",
       "            )\n",
       "            (layer_norm): MT5LayerNorm()\n",
       "            (dropout): Dropout(p=0.1, inplace=False)\n",
       "          )\n",
       "          (1): MT5LayerCrossAttention(\n",
       "            (EncDecAttention): MT5Attention(\n",
       "              (q): Linear(in_features=768, out_features=768, bias=False)\n",
       "              (k): Linear(in_features=768, out_features=768, bias=False)\n",
       "              (v): Linear(in_features=768, out_features=768, bias=False)\n",
       "              (o): Linear(in_features=768, out_features=768, bias=False)\n",
       "            )\n",
       "            (layer_norm): MT5LayerNorm()\n",
       "            (dropout): Dropout(p=0.1, inplace=False)\n",
       "          )\n",
       "          (2): MT5LayerFF(\n",
       "            (DenseReluDense): MT5DenseGatedActDense(\n",
       "              (wi_0): Linear(in_features=768, out_features=2048, bias=False)\n",
       "              (wi_1): Linear(in_features=768, out_features=2048, bias=False)\n",
       "              (wo): Linear(in_features=2048, out_features=768, bias=False)\n",
       "              (dropout): Dropout(p=0.1, inplace=False)\n",
       "              (act): NewGELUActivation()\n",
       "            )\n",
       "            (layer_norm): MT5LayerNorm()\n",
       "            (dropout): Dropout(p=0.1, inplace=False)\n",
       "          )\n",
       "        )\n",
       "      )\n",
       "      (1-11): 11 x MT5Block(\n",
       "        (layer): ModuleList(\n",
       "          (0): MT5LayerSelfAttention(\n",
       "            (SelfAttention): MT5Attention(\n",
       "              (q): Linear(in_features=768, out_features=768, bias=False)\n",
       "              (k): Linear(in_features=768, out_features=768, bias=False)\n",
       "              (v): Linear(in_features=768, out_features=768, bias=False)\n",
       "              (o): Linear(in_features=768, out_features=768, bias=False)\n",
       "            )\n",
       "            (layer_norm): MT5LayerNorm()\n",
       "            (dropout): Dropout(p=0.1, inplace=False)\n",
       "          )\n",
       "          (1): MT5LayerCrossAttention(\n",
       "            (EncDecAttention): MT5Attention(\n",
       "              (q): Linear(in_features=768, out_features=768, bias=False)\n",
       "              (k): Linear(in_features=768, out_features=768, bias=False)\n",
       "              (v): Linear(in_features=768, out_features=768, bias=False)\n",
       "              (o): Linear(in_features=768, out_features=768, bias=False)\n",
       "            )\n",
       "            (layer_norm): MT5LayerNorm()\n",
       "            (dropout): Dropout(p=0.1, inplace=False)\n",
       "          )\n",
       "          (2): MT5LayerFF(\n",
       "            (DenseReluDense): MT5DenseGatedActDense(\n",
       "              (wi_0): Linear(in_features=768, out_features=2048, bias=False)\n",
       "              (wi_1): Linear(in_features=768, out_features=2048, bias=False)\n",
       "              (wo): Linear(in_features=2048, out_features=768, bias=False)\n",
       "              (dropout): Dropout(p=0.1, inplace=False)\n",
       "              (act): NewGELUActivation()\n",
       "            )\n",
       "            (layer_norm): MT5LayerNorm()\n",
       "            (dropout): Dropout(p=0.1, inplace=False)\n",
       "          )\n",
       "        )\n",
       "      )\n",
       "    )\n",
       "    (final_layer_norm): MT5LayerNorm()\n",
       "    (dropout): Dropout(p=0.1, inplace=False)\n",
       "  )\n",
       "  (lm_head): Linear(in_features=768, out_features=250112, bias=False)\n",
       ")"
      ]
     },
     "execution_count": 12,
     "metadata": {},
     "output_type": "execute_result"
    }
   ],
   "source": [
    "path_to_model = f\"./model\"\n",
    "model = AutoModelForSeq2SeqLM.from_pretrained(path_to_model)\n",
    "tokenizer = AutoTokenizer.from_pretrained(path_to_model)\n",
    "model.to(device)"
   ]
  },
  {
   "cell_type": "code",
   "execution_count": 13,
   "metadata": {},
   "outputs": [
    {
     "name": "stderr",
     "output_type": "stream",
     "text": [
      "<>:2: SyntaxWarning: invalid escape sequence '\\s'\n",
      "<>:2: SyntaxWarning: invalid escape sequence '\\s'\n",
      "/tmp/ipykernel_573682/2290899452.py:2: SyntaxWarning: invalid escape sequence '\\s'\n",
      "  WHITESPACE_HANDLER = lambda k: re.sub(\"\\s+\", \" \", re.sub(\"\\n+\", \" \", k.strip()))\n"
     ]
    }
   ],
   "source": [
    "def infer(text):\n",
    "    WHITESPACE_HANDLER = lambda k: re.sub(\"\\s+\", \" \", re.sub(\"\\n+\", \" \", k.strip()))\n",
    "\n",
    "    input_ids = tokenizer(\n",
    "        [WHITESPACE_HANDLER(text)],\n",
    "        return_tensors=\"pt\",\n",
    "        padding=\"max_length\",\n",
    "        truncation=True,\n",
    "        max_length=512,\n",
    "    )[\"input_ids\"].to(device)\n",
    "\n",
    "    output_ids = model.generate(\n",
    "        input_ids=input_ids, max_length=200, no_repeat_ngram_size=2, num_beams=4\n",
    "    )[0]\n",
    "\n",
    "    summary = tokenizer.decode(\n",
    "        output_ids, skip_special_tokens=True, clean_up_tokenization_spaces=False\n",
    "    )\n",
    "    return summary\n"
   ]
  },
  {
   "cell_type": "code",
   "execution_count": 14,
   "metadata": {},
   "outputs": [
    {
     "data": {
      "text/plain": [
       "'На фоне истощения запасов вооружения в западных странах в Киеве растет беспокойство по поводу способности союзников поддерживать темпы поставок оружия. Об этом 22 ноября сообщает газета Le Monde. «Запасы боеприпасов в западных арсеналах истощаются чрезвычайно быстро. Отныне страны должны использовать свои критические запасы, если они хотят поддержать Украину», — приводит газета заявление постоянного секретаря министерства обороны Эстонии Кусти Салма. Отмечается, что страны — поставщики оружия сами теперь нуждаются в срочном пополнении запасов вооружения. За месяцы боевых действий Запад широко раскрыл свои арсеналы, в первую очередь США, которые обеспечивают две трети военной помощи. Пентагон официально поставил Киеву более миллиона снарядов с 24 февраля: 924 тыс. калибра 155 мм, 125 тыс. — 120 мм, 180 тыс. — 105 мм. Ранее в этот день министр обороны Германии Кристина Ламбрехт заявила, что вооруженным силам страны сложно откликаться на просьбы третьих стран об оказании военной помощи. При этом она заверила, что ФРГ будет продолжать поддерживать Украину. Между тем в этот же день группа из 16 сенаторов конгресса США обратилась к администрации президента страны с просьбой пересмотреть решение о поставке на Украину разведывательно-ударных беспилотных летательных аппаратов MQ-1C Gray Eagle. Уточнялось, что решение должно быть пересмотрено в пользу Украины, поскольку поставки такой техники «обладают потенциалом изменить стратегический ход боевых действий в пользу Украины». До этого, 19 ноября, сотрудник чешского Университета обороны Брно Зденек Петраш заявил, что ввиду истощения запасов оружия и боеприпасов украинские военные потеряли инициативу на поле боя. При этом на Западе энтузиазм в поставках вооружения на Украину постепенно снижается, добавил он. Еще в октябре официальный представитель МИД РФ Мария Захарова отмечала, что НАТО, продолжая накачивать Киев оружием, приближается к столкновению с Россией. Россия с 24 февраля проводит спецоперацию по защите Донбасса, жители которого отказались признавать итоги государственного переворота 2014 года на Украине. Решение о ее начале принято в связи с обострением ситуации в регионе из-за обстрелов украинских войск. Больше актуальных видео и подробностей о ситуации в Донбассе смотрите на телеканале «Известия».'"
      ]
     },
     "execution_count": 14,
     "metadata": {},
     "output_type": "execute_result"
    }
   ],
   "source": [
    "df.text[0]"
   ]
  },
  {
   "cell_type": "code",
   "execution_count": 15,
   "metadata": {},
   "outputs": [
    {
     "name": "stderr",
     "output_type": "stream",
     "text": [
      "/root/.pyenv/versions/3.12.2/lib/python3.12/site-packages/transformers/generation/utils.py:1473: UserWarning: You have modified the pretrained model configuration to control generation. This is a deprecated strategy to control generation and will be removed soon, in a future version. Please use and modify the model generation configuration (see https://huggingface.co/docs/transformers/generation_strategies#default-text-generation-configuration )\n",
      "  warnings.warn(\n"
     ]
    },
    {
     "data": {
      "text/plain": [
       "'На фоне истощения запасов вооружения в западных странах в Киеве растет беспокойство по поводу способности союзников поддерживать темпы поставок оружия.'"
      ]
     },
     "execution_count": 15,
     "metadata": {},
     "output_type": "execute_result"
    }
   ],
   "source": [
    "infer(df.text[0])"
   ]
  },
  {
   "cell_type": "code",
   "execution_count": 17,
   "metadata": {},
   "outputs": [],
   "source": [
    "# df['simle_sum'] = df.text.progress_apply(infer)"
   ]
  },
  {
   "cell_type": "code",
   "execution_count": null,
   "metadata": {},
   "outputs": [],
   "source": [
    "df.to_csv('text_sum_smallsum_metrics.csv', index=False)"
   ]
  },
  {
   "cell_type": "code",
   "execution_count": null,
   "metadata": {},
   "outputs": [
    {
     "data": {
      "text/html": [
       "<div>\n",
       "<style scoped>\n",
       "    .dataframe tbody tr th:only-of-type {\n",
       "        vertical-align: middle;\n",
       "    }\n",
       "\n",
       "    .dataframe tbody tr th {\n",
       "        vertical-align: top;\n",
       "    }\n",
       "\n",
       "    .dataframe thead th {\n",
       "        text-align: right;\n",
       "    }\n",
       "</style>\n",
       "<table border=\"1\" class=\"dataframe\">\n",
       "  <thead>\n",
       "    <tr style=\"text-align: right;\">\n",
       "      <th></th>\n",
       "      <th>text</th>\n",
       "      <th>summary</th>\n",
       "      <th>simle_sum</th>\n",
       "    </tr>\n",
       "  </thead>\n",
       "  <tbody>\n",
       "    <tr>\n",
       "      <th>0</th>\n",
       "      <td>На фоне истощения запасов вооружения в западны...</td>\n",
       "      <td>На фоне истощения запасов вооружения в западны...</td>\n",
       "      <td>На фоне истощения запасов вооружения в западны...</td>\n",
       "    </tr>\n",
       "    <tr>\n",
       "      <th>1</th>\n",
       "      <td>ДОХА, 21 ноя —ПРАЙМ. Катарская национальная не...</td>\n",
       "      <td>Катарская национальная нефтегазовая компания Q...</td>\n",
       "      <td>Катарская национальная нефтегазовая компания Q...</td>\n",
       "    </tr>\n",
       "    <tr>\n",
       "      <th>2</th>\n",
       "      <td>Россия обсудит с ОНН вопрос о возобновлении по...</td>\n",
       "      <td>Россия обсудит с ООН вопрос о возобновлении по...</td>\n",
       "      <td>Россия обсудит с ООН вопрос о возобновлении по...</td>\n",
       "    </tr>\n",
       "    <tr>\n",
       "      <th>3</th>\n",
       "      <td>Евгений Томихин указал, что эта тема обсуждает...</td>\n",
       "      <td>Посол РФ выразил надежду на подвижки в вопросе...</td>\n",
       "      <td>Россия рассчитывает на продвижение в вопросе и...</td>\n",
       "    </tr>\n",
       "    <tr>\n",
       "      <th>4</th>\n",
       "      <td>МОСКВА, 23 ноя — ПРАЙМ. Индонезии требуются ин...</td>\n",
       "      <td>Индонезии требуются инвестиции в размере 179 м...</td>\n",
       "      <td>Индонезии требуются инвестиции в размере 179 м...</td>\n",
       "    </tr>\n",
       "    <tr>\n",
       "      <th>...</th>\n",
       "      <td>...</td>\n",
       "      <td>...</td>\n",
       "      <td>...</td>\n",
       "    </tr>\n",
       "    <tr>\n",
       "      <th>26916</th>\n",
       "      <td>МОСКВА, 29 ноября. /ТАСС/. Компания Uranium On...</td>\n",
       "      <td>29 ноября 2021 года компания Uranium One Holdi...</td>\n",
       "      <td>Компания Uranium One Holding N. V. (предприяти...</td>\n",
       "    </tr>\n",
       "    <tr>\n",
       "      <th>26917</th>\n",
       "      <td>«Российские и индийские специалисты провели бо...</td>\n",
       "      <td>Россия и Индия подписали контракт о совместном...</td>\n",
       "      <td>«Российские и индийские специалисты провели бо...</td>\n",
       "    </tr>\n",
       "    <tr>\n",
       "      <th>26918</th>\n",
       "      <td>МОСКВА, 6 дек — ПРАЙМ. Совместное российско-ин...</td>\n",
       "      <td>Совместное российско-индийское предприятие в и...</td>\n",
       "      <td>Совместное российско-индийское предприятие в и...</td>\n",
       "    </tr>\n",
       "    <tr>\n",
       "      <th>26919</th>\n",
       "      <td>НЬЮ-ДЕЛИ, 6 декабря. /ТАСС/. Индия приложит ус...</td>\n",
       "      <td>Индия приложит усилия для официального выделен...</td>\n",
       "      <td>Индия приложит усилия для официального выделен...</td>\n",
       "    </tr>\n",
       "    <tr>\n",
       "      <th>26920</th>\n",
       "      <td>БУЭНОС-АЙРЕС, 8 декабря. /ТАСС/. Аргентинская ...</td>\n",
       "      <td>Аргентинская сторона интересуется возможностью...</td>\n",
       "      <td>Аргентинская сторона интересуется возможностью...</td>\n",
       "    </tr>\n",
       "  </tbody>\n",
       "</table>\n",
       "<p>26921 rows × 3 columns</p>\n",
       "</div>"
      ],
      "text/plain": [
       "                                                    text  \\\n",
       "0      На фоне истощения запасов вооружения в западны...   \n",
       "1      ДОХА, 21 ноя —ПРАЙМ. Катарская национальная не...   \n",
       "2      Россия обсудит с ОНН вопрос о возобновлении по...   \n",
       "3      Евгений Томихин указал, что эта тема обсуждает...   \n",
       "4      МОСКВА, 23 ноя — ПРАЙМ. Индонезии требуются ин...   \n",
       "...                                                  ...   \n",
       "26916  МОСКВА, 29 ноября. /ТАСС/. Компания Uranium On...   \n",
       "26917  «Российские и индийские специалисты провели бо...   \n",
       "26918  МОСКВА, 6 дек — ПРАЙМ. Совместное российско-ин...   \n",
       "26919  НЬЮ-ДЕЛИ, 6 декабря. /ТАСС/. Индия приложит ус...   \n",
       "26920  БУЭНОС-АЙРЕС, 8 декабря. /ТАСС/. Аргентинская ...   \n",
       "\n",
       "                                                 summary  \\\n",
       "0      На фоне истощения запасов вооружения в западны...   \n",
       "1      Катарская национальная нефтегазовая компания Q...   \n",
       "2      Россия обсудит с ООН вопрос о возобновлении по...   \n",
       "3      Посол РФ выразил надежду на подвижки в вопросе...   \n",
       "4      Индонезии требуются инвестиции в размере 179 м...   \n",
       "...                                                  ...   \n",
       "26916  29 ноября 2021 года компания Uranium One Holdi...   \n",
       "26917  Россия и Индия подписали контракт о совместном...   \n",
       "26918  Совместное российско-индийское предприятие в и...   \n",
       "26919  Индия приложит усилия для официального выделен...   \n",
       "26920  Аргентинская сторона интересуется возможностью...   \n",
       "\n",
       "                                               simle_sum  \n",
       "0      На фоне истощения запасов вооружения в западны...  \n",
       "1      Катарская национальная нефтегазовая компания Q...  \n",
       "2      Россия обсудит с ООН вопрос о возобновлении по...  \n",
       "3      Россия рассчитывает на продвижение в вопросе и...  \n",
       "4      Индонезии требуются инвестиции в размере 179 м...  \n",
       "...                                                  ...  \n",
       "26916  Компания Uranium One Holding N. V. (предприяти...  \n",
       "26917  «Российские и индийские специалисты провели бо...  \n",
       "26918  Совместное российско-индийское предприятие в и...  \n",
       "26919  Индия приложит усилия для официального выделен...  \n",
       "26920  Аргентинская сторона интересуется возможностью...  \n",
       "\n",
       "[26921 rows x 3 columns]"
      ]
     },
     "execution_count": 14,
     "metadata": {},
     "output_type": "execute_result"
    }
   ],
   "source": [
    "df"
   ]
  },
  {
   "cell_type": "code",
   "execution_count": 18,
   "metadata": {},
   "outputs": [],
   "source": [
    "df = pd.read_csv('text_sum_smallsum.csv')"
   ]
  },
  {
   "cell_type": "code",
   "execution_count": 19,
   "metadata": {},
   "outputs": [
    {
     "data": {
      "text/html": [
       "<div>\n",
       "<style scoped>\n",
       "    .dataframe tbody tr th:only-of-type {\n",
       "        vertical-align: middle;\n",
       "    }\n",
       "\n",
       "    .dataframe tbody tr th {\n",
       "        vertical-align: top;\n",
       "    }\n",
       "\n",
       "    .dataframe thead th {\n",
       "        text-align: right;\n",
       "    }\n",
       "</style>\n",
       "<table border=\"1\" class=\"dataframe\">\n",
       "  <thead>\n",
       "    <tr style=\"text-align: right;\">\n",
       "      <th></th>\n",
       "      <th>text</th>\n",
       "      <th>summary</th>\n",
       "      <th>simle_sum</th>\n",
       "    </tr>\n",
       "  </thead>\n",
       "  <tbody>\n",
       "    <tr>\n",
       "      <th>0</th>\n",
       "      <td>На фоне истощения запасов вооружения в западны...</td>\n",
       "      <td>На фоне истощения запасов вооружения в западны...</td>\n",
       "      <td>На фоне истощения запасов вооружения в западны...</td>\n",
       "    </tr>\n",
       "    <tr>\n",
       "      <th>1</th>\n",
       "      <td>ДОХА, 21 ноя —ПРАЙМ. Катарская национальная не...</td>\n",
       "      <td>Катарская национальная нефтегазовая компания Q...</td>\n",
       "      <td>Катарская национальная нефтегазовая компания Q...</td>\n",
       "    </tr>\n",
       "    <tr>\n",
       "      <th>2</th>\n",
       "      <td>Россия обсудит с ОНН вопрос о возобновлении по...</td>\n",
       "      <td>Россия обсудит с ООН вопрос о возобновлении по...</td>\n",
       "      <td>Россия обсудит с ООН вопрос о возобновлении по...</td>\n",
       "    </tr>\n",
       "    <tr>\n",
       "      <th>3</th>\n",
       "      <td>Евгений Томихин указал, что эта тема обсуждает...</td>\n",
       "      <td>Посол РФ выразил надежду на подвижки в вопросе...</td>\n",
       "      <td>Россия рассчитывает на продвижение в вопросе и...</td>\n",
       "    </tr>\n",
       "    <tr>\n",
       "      <th>4</th>\n",
       "      <td>МОСКВА, 23 ноя — ПРАЙМ. Индонезии требуются ин...</td>\n",
       "      <td>Индонезии требуются инвестиции в размере 179 м...</td>\n",
       "      <td>Индонезии требуются инвестиции в размере 179 м...</td>\n",
       "    </tr>\n",
       "    <tr>\n",
       "      <th>...</th>\n",
       "      <td>...</td>\n",
       "      <td>...</td>\n",
       "      <td>...</td>\n",
       "    </tr>\n",
       "    <tr>\n",
       "      <th>26916</th>\n",
       "      <td>МОСКВА, 29 ноября. /ТАСС/. Компания Uranium On...</td>\n",
       "      <td>29 ноября 2021 года компания Uranium One Holdi...</td>\n",
       "      <td>Компания Uranium One Holding N. V. (предприяти...</td>\n",
       "    </tr>\n",
       "    <tr>\n",
       "      <th>26917</th>\n",
       "      <td>«Российские и индийские специалисты провели бо...</td>\n",
       "      <td>Россия и Индия подписали контракт о совместном...</td>\n",
       "      <td>«Российские и индийские специалисты провели бо...</td>\n",
       "    </tr>\n",
       "    <tr>\n",
       "      <th>26918</th>\n",
       "      <td>МОСКВА, 6 дек — ПРАЙМ. Совместное российско-ин...</td>\n",
       "      <td>Совместное российско-индийское предприятие в и...</td>\n",
       "      <td>Совместное российско-индийское предприятие в и...</td>\n",
       "    </tr>\n",
       "    <tr>\n",
       "      <th>26919</th>\n",
       "      <td>НЬЮ-ДЕЛИ, 6 декабря. /ТАСС/. Индия приложит ус...</td>\n",
       "      <td>Индия приложит усилия для официального выделен...</td>\n",
       "      <td>Индия приложит усилия для официального выделен...</td>\n",
       "    </tr>\n",
       "    <tr>\n",
       "      <th>26920</th>\n",
       "      <td>БУЭНОС-АЙРЕС, 8 декабря. /ТАСС/. Аргентинская ...</td>\n",
       "      <td>Аргентинская сторона интересуется возможностью...</td>\n",
       "      <td>Аргентинская сторона интересуется возможностью...</td>\n",
       "    </tr>\n",
       "  </tbody>\n",
       "</table>\n",
       "<p>26921 rows × 3 columns</p>\n",
       "</div>"
      ],
      "text/plain": [
       "                                                    text  \\\n",
       "0      На фоне истощения запасов вооружения в западны...   \n",
       "1      ДОХА, 21 ноя —ПРАЙМ. Катарская национальная не...   \n",
       "2      Россия обсудит с ОНН вопрос о возобновлении по...   \n",
       "3      Евгений Томихин указал, что эта тема обсуждает...   \n",
       "4      МОСКВА, 23 ноя — ПРАЙМ. Индонезии требуются ин...   \n",
       "...                                                  ...   \n",
       "26916  МОСКВА, 29 ноября. /ТАСС/. Компания Uranium On...   \n",
       "26917  «Российские и индийские специалисты провели бо...   \n",
       "26918  МОСКВА, 6 дек — ПРАЙМ. Совместное российско-ин...   \n",
       "26919  НЬЮ-ДЕЛИ, 6 декабря. /ТАСС/. Индия приложит ус...   \n",
       "26920  БУЭНОС-АЙРЕС, 8 декабря. /ТАСС/. Аргентинская ...   \n",
       "\n",
       "                                                 summary  \\\n",
       "0      На фоне истощения запасов вооружения в западны...   \n",
       "1      Катарская национальная нефтегазовая компания Q...   \n",
       "2      Россия обсудит с ООН вопрос о возобновлении по...   \n",
       "3      Посол РФ выразил надежду на подвижки в вопросе...   \n",
       "4      Индонезии требуются инвестиции в размере 179 м...   \n",
       "...                                                  ...   \n",
       "26916  29 ноября 2021 года компания Uranium One Holdi...   \n",
       "26917  Россия и Индия подписали контракт о совместном...   \n",
       "26918  Совместное российско-индийское предприятие в и...   \n",
       "26919  Индия приложит усилия для официального выделен...   \n",
       "26920  Аргентинская сторона интересуется возможностью...   \n",
       "\n",
       "                                               simle_sum  \n",
       "0      На фоне истощения запасов вооружения в западны...  \n",
       "1      Катарская национальная нефтегазовая компания Q...  \n",
       "2      Россия обсудит с ООН вопрос о возобновлении по...  \n",
       "3      Россия рассчитывает на продвижение в вопросе и...  \n",
       "4      Индонезии требуются инвестиции в размере 179 м...  \n",
       "...                                                  ...  \n",
       "26916  Компания Uranium One Holding N. V. (предприяти...  \n",
       "26917  «Российские и индийские специалисты провели бо...  \n",
       "26918  Совместное российско-индийское предприятие в и...  \n",
       "26919  Индия приложит усилия для официального выделен...  \n",
       "26920  Аргентинская сторона интересуется возможностью...  \n",
       "\n",
       "[26921 rows x 3 columns]"
      ]
     },
     "execution_count": 19,
     "metadata": {},
     "output_type": "execute_result"
    }
   ],
   "source": [
    "df"
   ]
  },
  {
   "cell_type": "code",
   "execution_count": 20,
   "metadata": {},
   "outputs": [],
   "source": [
    "precision_scores = []\n",
    "recall_scores = []\n",
    "f1_scores = []"
   ]
  },
  {
   "cell_type": "code",
   "execution_count": 21,
   "metadata": {},
   "outputs": [
    {
     "name": "stderr",
     "output_type": "stream",
     "text": [
      "0it [00:00, ?it/s]/root/.pyenv/versions/3.12.2/lib/python3.12/site-packages/transformers/utils/generic.py:309: UserWarning: torch.utils._pytree._register_pytree_node is deprecated. Please use torch.utils._pytree.register_pytree_node instead.\n",
      "  _torch_pytree._register_pytree_node(\n",
      "26921it [16:53, 26.57it/s]\n"
     ]
    }
   ],
   "source": [
    "for text, summary in tq.tqdm(zip(df[\"text\"], df[\"summary\"])):\n",
    "    results = bertscore.compute(\n",
    "        predictions=[summary],\n",
    "        references=[text],\n",
    "        model_type=\"bert-base-multilingual-cased\",\n",
    "        device=device,\n",
    "    )\n",
    "    precision_scores.append(results[\"precision\"][0])\n",
    "    recall_scores.append(results[\"recall\"][0])\n",
    "    f1_scores.append(results[\"f1\"][0])"
   ]
  },
  {
   "cell_type": "code",
   "execution_count": 22,
   "metadata": {},
   "outputs": [],
   "source": [
    "df[\"precision_manual\"] = precision_scores\n",
    "df[\"recall_manual\"] = recall_scores\n",
    "df[\"f1_manual\"] = f1_scores"
   ]
  },
  {
   "cell_type": "code",
   "execution_count": 23,
   "metadata": {},
   "outputs": [],
   "source": [
    "precision_scores2 = []\n",
    "recall_scores2 = []\n",
    "f1_scores2 = []"
   ]
  },
  {
   "cell_type": "code",
   "execution_count": 24,
   "metadata": {},
   "outputs": [
    {
     "name": "stderr",
     "output_type": "stream",
     "text": [
      "26921it [16:34, 27.06it/s]\n"
     ]
    }
   ],
   "source": [
    "for text, summary in tq.tqdm(zip(df[\"text\"], df[\"simle_sum\"])):\n",
    "    results = bertscore.compute(\n",
    "        predictions=[summary],\n",
    "        references=[text],\n",
    "        model_type=\"bert-base-multilingual-cased\",\n",
    "        device=device,\n",
    "    )\n",
    "    precision_scores2.append(results[\"precision\"][0])\n",
    "    recall_scores2.append(results[\"recall\"][0])\n",
    "    f1_scores2.append(results[\"f1\"][0])"
   ]
  },
  {
   "cell_type": "code",
   "execution_count": 25,
   "metadata": {},
   "outputs": [],
   "source": [
    "df[\"precision_mt5\"] = precision_scores2\n",
    "df[\"recall_mt5\"] = recall_scores2\n",
    "df[\"f1_mt5\"] = f1_scores2"
   ]
  },
  {
   "cell_type": "code",
   "execution_count": 26,
   "metadata": {},
   "outputs": [],
   "source": [
    "precision_scores3 = []\n",
    "recall_scores3 = []\n",
    "f1_scores3 = []"
   ]
  },
  {
   "cell_type": "code",
   "execution_count": 27,
   "metadata": {},
   "outputs": [
    {
     "name": "stderr",
     "output_type": "stream",
     "text": [
      "26921it [16:39, 26.94it/s]\n"
     ]
    }
   ],
   "source": [
    "for text, summary in tq.tqdm(zip(df[\"text\"], df[\"simle_sum\"][::-1])):\n",
    "    results = bertscore.compute(\n",
    "        predictions=[summary],\n",
    "        references=[text],\n",
    "        model_type=\"bert-base-multilingual-cased\",\n",
    "        device=device,\n",
    "    )\n",
    "    precision_scores3.append(results[\"precision\"][0])\n",
    "    recall_scores3.append(results[\"recall\"][0])\n",
    "    f1_scores3.append(results[\"f1\"][0])"
   ]
  },
  {
   "cell_type": "code",
   "execution_count": 28,
   "metadata": {},
   "outputs": [],
   "source": [
    "df[\"precision_random\"] = precision_scores3\n",
    "df[\"recall_random\"] = recall_scores3\n",
    "df[\"f1_random\"] = f1_scores3"
   ]
  },
  {
   "cell_type": "code",
   "execution_count": 29,
   "metadata": {},
   "outputs": [
    {
     "name": "stdout",
     "output_type": "stream",
     "text": [
      "Bert-score precision саммари - ручная разметка 0.856\n",
      "Bert-score precision саммари - модель mT5_multilingual_XLSum 0.848\n"
     ]
    }
   ],
   "source": [
    "print(f\"Bert-score precision саммари - ручная разметка {df['precision_manual'].mean() :.3f}\")\n",
    "print(f\"Bert-score precision саммари - модель mT5_multilingual_XLSum {df['precision_mt5'].mean():.3f}\")"
   ]
  },
  {
   "cell_type": "code",
   "execution_count": 30,
   "metadata": {},
   "outputs": [
    {
     "name": "stdout",
     "output_type": "stream",
     "text": [
      "Bert-score recall саммари - ручная разметка 0.685\n",
      "Bert-score recall саммари - модель mT5_multilingual_XLSum 0.629\n"
     ]
    }
   ],
   "source": [
    "print(f\"Bert-score recall саммари - ручная разметка {df['recall_manual'].mean() :.3f}\")\n",
    "print(f\"Bert-score recall саммари - модель mT5_multilingual_XLSum {df['recall_mt5'].mean():.3f}\")"
   ]
  },
  {
   "cell_type": "code",
   "execution_count": 31,
   "metadata": {},
   "outputs": [
    {
     "name": "stdout",
     "output_type": "stream",
     "text": [
      "Bert-score f1 саммари - ручная разметка 0.760\n",
      "Bert-score f1 саммари - модель mT5_multilingual_XLSum 0.722\n"
     ]
    }
   ],
   "source": [
    "print(f\"Bert-score f1 саммари - ручная разметка {df['f1_manual'].mean() :.3f}\")\n",
    "print(f\"Bert-score f1 саммари - модель mT5_multilingual_XLSum {df['f1_mt5'].mean():.3f}\")"
   ]
  },
  {
   "cell_type": "code",
   "execution_count": 32,
   "metadata": {},
   "outputs": [
    {
     "data": {
      "text/html": [
       "<div>\n",
       "<style scoped>\n",
       "    .dataframe tbody tr th:only-of-type {\n",
       "        vertical-align: middle;\n",
       "    }\n",
       "\n",
       "    .dataframe tbody tr th {\n",
       "        vertical-align: top;\n",
       "    }\n",
       "\n",
       "    .dataframe thead th {\n",
       "        text-align: right;\n",
       "    }\n",
       "</style>\n",
       "<table border=\"1\" class=\"dataframe\">\n",
       "  <thead>\n",
       "    <tr style=\"text-align: right;\">\n",
       "      <th></th>\n",
       "      <th>manual</th>\n",
       "      <th>mT5_multilingual_XLSum</th>\n",
       "      <th>random</th>\n",
       "    </tr>\n",
       "  </thead>\n",
       "  <tbody>\n",
       "    <tr>\n",
       "      <th>precision</th>\n",
       "      <td>0.855738</td>\n",
       "      <td>0.848048</td>\n",
       "      <td>0.630689</td>\n",
       "    </tr>\n",
       "    <tr>\n",
       "      <th>recall</th>\n",
       "      <td>0.685404</td>\n",
       "      <td>0.628855</td>\n",
       "      <td>0.547413</td>\n",
       "    </tr>\n",
       "    <tr>\n",
       "      <th>f1</th>\n",
       "      <td>0.759816</td>\n",
       "      <td>0.721564</td>\n",
       "      <td>0.585786</td>\n",
       "    </tr>\n",
       "    <tr>\n",
       "      <th>std_precision</th>\n",
       "      <td>0.052763</td>\n",
       "      <td>0.031111</td>\n",
       "      <td>0.030102</td>\n",
       "    </tr>\n",
       "    <tr>\n",
       "      <th>std_recall</th>\n",
       "      <td>0.081000</td>\n",
       "      <td>0.048699</td>\n",
       "      <td>0.028576</td>\n",
       "    </tr>\n",
       "    <tr>\n",
       "      <th>std_f1</th>\n",
       "      <td>0.065605</td>\n",
       "      <td>0.039727</td>\n",
       "      <td>0.026016</td>\n",
       "    </tr>\n",
       "  </tbody>\n",
       "</table>\n",
       "</div>"
      ],
      "text/plain": [
       "                 manual  mT5_multilingual_XLSum    random\n",
       "precision      0.855738                0.848048  0.630689\n",
       "recall         0.685404                0.628855  0.547413\n",
       "f1             0.759816                0.721564  0.585786\n",
       "std_precision  0.052763                0.031111  0.030102\n",
       "std_recall     0.081000                0.048699  0.028576\n",
       "std_f1         0.065605                0.039727  0.026016"
      ]
     },
     "execution_count": 32,
     "metadata": {},
     "output_type": "execute_result"
    }
   ],
   "source": [
    "metrics_manual = {'precision': df['precision_manual'].mean(), 'recall': df['recall_manual'].mean(), 'f1': df['f1_manual'].mean(), 'std_precision': df['precision_manual'].std(), 'std_recall': df['recall_manual'].std(), 'std_f1': df['f1_manual'].std()}\n",
    "metrics_mT5 = {'precision': df['precision_mt5'].mean(), 'recall': df['recall_mt5'].mean(), 'f1': df['f1_mt5'].mean(), 'std_precision': df['precision_mt5'].std(), 'std_recall': df['recall_mt5'].std(), 'std_f1': df['f1_mt5'].std()}\n",
    "metrics_random = {'precision': df['precision_random'].mean(), 'recall': df['recall_random'].mean(), 'f1': df['f1_random'].mean(), 'std_precision': df['precision_random'].std(), 'std_recall': df['recall_random'].std(), 'std_f1': df['f1_random'].std()}\n",
    "# std_manual = {'std_precision': df['precision_manual'].std(), 'std_recall': df['recall_manual'].std(), 'std_f1': df['f1_manual'].std()}\n",
    "# std_metrics_mT5 = {'std_precision': df['precision_mt5'].std(), 'std_recall': df['recall_mt5'].std(), 'std_f1': df['f1_mt5'].std()}\n",
    "\n",
    "data = pd.DataFrame({\n",
    "    'manual': pd.Series(metrics_manual),\n",
    "    'mT5_multilingual_XLSum': pd.Series(metrics_mT5),\n",
    "    'random': pd.Series(metrics_random)\n",
    "})\n",
    "data"
   ]
  },
  {
   "cell_type": "code",
   "execution_count": 33,
   "metadata": {},
   "outputs": [],
   "source": [
    "# data.to_csv('metrics.csv')"
   ]
  },
  {
   "cell_type": "code",
   "execution_count": 34,
   "metadata": {},
   "outputs": [],
   "source": [
    "# df.to_excel('sum_metrics.xlsx')"
   ]
  },
  {
   "cell_type": "code",
   "execution_count": 35,
   "metadata": {},
   "outputs": [
    {
     "data": {
      "image/png": "[encoded data removed]",
      "text/plain": [
       "<Figure size 640x480 with 1 Axes>"
      ]
     },
     "metadata": {},
     "output_type": "display_data"
    }
   ],
   "source": [
    "plt.hist(df.precision_manual, bins=20, histtype=\"step\", label=\"manual\")\n",
    "plt.hist(df.precision_mt5, bins=20, histtype=\"stepfilled\", label=\"mT5_multilingual_XLSum\", alpha=0.3, edgecolor=\"w\")\n",
    "plt.hist(df.precision_random, bins=20, histtype=\"stepfilled\", label=\"random\", alpha=0.3, edgecolor=\"w\")\n",
    "plt.legend();"
   ]
  },
  {
   "cell_type": "code",
   "execution_count": 36,
   "metadata": {},
   "outputs": [
    {
     "data": {
      "image/png": "[encoded data removed]",
      "text/plain": [
       "<Figure size 640x480 with 1 Axes>"
      ]
     },
     "metadata": {},
     "output_type": "display_data"
    }
   ],
   "source": [
    "plt.hist(df.recall_manual, bins=20, histtype=\"step\", label=\"manual\")\n",
    "plt.hist(df.recall_mt5, bins=20, histtype=\"stepfilled\", label=\"mT5_multilingual_XLSum\", alpha=0.3, edgecolor=\"w\")\n",
    "plt.hist(df.recall_random, bins=20, histtype=\"stepfilled\", label=\"random\", alpha=0.3, edgecolor=\"w\")\n",
    "plt.legend();"
   ]
  },
  {
   "cell_type": "code",
   "execution_count": 37,
   "metadata": {},
   "outputs": [
    {
     "data": {
      "image/png": "[encoded data removed]",
      "text/plain": [
       "<Figure size 640x480 with 1 Axes>"
      ]
     },
     "metadata": {},
     "output_type": "display_data"
    }
   ],
   "source": [
    "plt.hist(df.f1_manual, bins=20, histtype=\"step\", label=\"manual\")\n",
    "plt.hist(df.f1_mt5, bins=20, histtype=\"stepfilled\", label=\"mT5_multilingual_XLSum\", alpha=0.3, edgecolor=\"w\")\n",
    "plt.hist(df.f1_random, bins=20, histtype=\"stepfilled\", label=\"random\", alpha=0.3, edgecolor=\"w\")\n",
    "plt.legend();"
   ]
  },
  {
   "cell_type": "code",
   "execution_count": 38,
   "metadata": {},
   "outputs": [
    {
     "data": {
      "image/png": "[encoded data removed]",
      "text/plain": [
       "<Figure size 640x480 with 1 Axes>"
      ]
     },
     "metadata": {},
     "output_type": "display_data"
    }
   ],
   "source": [
    "plt.hist(df[df.recall_manual>0.9]['recall_manual'], bins=20, histtype=\"step\", label=\"manual\")\n",
    "plt.hist(df[df.recall_manual>0.9]['recall_mt5'], histtype=\"stepfilled\", label=\"mT5_multilingual_XLSum\", alpha=0.3, edgecolor=\"w\")\n",
    "plt.hist(df[df.recall_manual>0.9]['f1_random'], bins=20, histtype=\"stepfilled\", label=\"random\", alpha=0.3, edgecolor=\"w\")\n",
    "plt.legend();"
   ]
  },
  {
   "cell_type": "code",
   "execution_count": 39,
   "metadata": {},
   "outputs": [
    {
     "data": {
      "text/plain": [
       "631"
      ]
     },
     "execution_count": 39,
     "metadata": {},
     "output_type": "execute_result"
    }
   ],
   "source": [
    "df[df.recall_manual>0.9].shape[0]"
   ]
  },
  {
   "cell_type": "code",
   "execution_count": null,
   "metadata": {},
   "outputs": [],
   "source": []
  }
 ],
 "metadata": {
  "kernelspec": {
   "display_name": "Python 3",
   "language": "python",
   "name": "python3"
  },
  "language_info": {
   "codemirror_mode": {
    "name": "ipython",
    "version": 3
   },
   "file_extension": ".py",
   "mimetype": "text/x-python",
   "name": "python",
   "nbconvert_exporter": "python",
   "pygments_lexer": "ipython3",
   "version": "3.12.2"
  }
 },
 "nbformat": 4,
 "nbformat_minor": 2
}
