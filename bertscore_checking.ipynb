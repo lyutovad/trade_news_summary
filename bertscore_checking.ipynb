{
 "cells": [
  {
   "cell_type": "code",
   "execution_count": 22,
   "metadata": {},
   "outputs": [],
   "source": [
    "import pandas as pd\n",
    "import numpy as np\n",
    "from bert_score import score\n",
    "import torch\n",
    "import tqdm\n",
    "import matplotlib.pyplot as plt\n",
    "import seaborn as sns"
   ]
  },
  {
   "cell_type": "code",
   "execution_count": 2,
   "metadata": {},
   "outputs": [],
   "source": [
    "from evaluate import load\n",
    "\n",
    "bertscore = load(\"bertscore\")"
   ]
  },
  {
   "cell_type": "code",
   "execution_count": null,
   "metadata": {},
   "outputs": [],
   "source": [
    "sns.set(rc={\"figure.figsize\": (14, 12)})"
   ]
  },
  {
   "cell_type": "code",
   "execution_count": 3,
   "metadata": {},
   "outputs": [
    {
     "data": {
      "text/plain": [
       "device(type='cuda')"
      ]
     },
     "execution_count": 3,
     "metadata": {},
     "output_type": "execute_result"
    }
   ],
   "source": [
    "device = torch.device(\"cuda\" if torch.cuda.is_available() else \"cpu\")\n",
    "device"
   ]
  },
  {
   "cell_type": "markdown",
   "metadata": {},
   "source": [
    "Возьмем данные с уже посчитанным статистиками. Может, нужно будет сравнить полученный скор с количственными данными из EDA."
   ]
  },
  {
   "cell_type": "code",
   "execution_count": 4,
   "metadata": {},
   "outputs": [],
   "source": [
    "df = pd.read_csv(\"./data/text_sum_prods_locs.csv\")"
   ]
  },
  {
   "cell_type": "code",
   "execution_count": 5,
   "metadata": {},
   "outputs": [
    {
     "name": "stdout",
     "output_type": "stream",
     "text": [
      "<class 'pandas.core.frame.DataFrame'>\n",
      "RangeIndex: 26921 entries, 0 to 26920\n",
      "Data columns (total 26 columns):\n",
      " #   Column              Non-Null Count  Dtype \n",
      "---  ------              --------------  ----- \n",
      " 0   text                26921 non-null  object\n",
      " 1   raw_product         25730 non-null  object\n",
      " 2   product             14400 non-null  object\n",
      " 3   raw_locations       26921 non-null  object\n",
      " 4   locations           26921 non-null  object\n",
      " 5   news_date           26921 non-null  int64 \n",
      " 6   url                 26921 non-null  object\n",
      " 7   summary             26921 non-null  object\n",
      " 8   lang                26921 non-null  object\n",
      " 9   text_words          26921 non-null  object\n",
      " 10  summary_words       26921 non-null  object\n",
      " 11  text_lemmas         26921 non-null  object\n",
      " 12  summary_lemmas      26921 non-null  object\n",
      " 13  product_lemmas      26921 non-null  object\n",
      " 14  country_lemmas      26921 non-null  object\n",
      " 15  num_summary_sents   26921 non-null  int64 \n",
      " 16  text_len            26921 non-null  int64 \n",
      " 17  summary_len         26921 non-null  int64 \n",
      " 18  text_unique_len     26921 non-null  int64 \n",
      " 19  summary_unique_len  26921 non-null  int64 \n",
      " 20  prod_num            26921 non-null  int64 \n",
      " 21  locs_num            26921 non-null  int64 \n",
      " 22  prod_locs_num       26921 non-null  int64 \n",
      " 23  raw_locs_num        26921 non-null  int64 \n",
      " 24  prod_match          26921 non-null  int64 \n",
      " 25  locs_match          26921 non-null  int64 \n",
      "dtypes: int64(12), object(14)\n",
      "memory usage: 5.3+ MB\n"
     ]
    }
   ],
   "source": [
    "df.info()"
   ]
  },
  {
   "cell_type": "markdown",
   "metadata": {},
   "source": [
    "Посчитаем для саммари метрику BertSCORE"
   ]
  },
  {
   "cell_type": "markdown",
   "metadata": {},
   "source": [
    "В целом преимущества BertSCORE в том, что эта метрика включает контекстное представление текстов через векторные пространства. Сходство кандидата и референса измеряется через косинусное расстояние, оценку точности и полноты проводится путём сопоставления токенов. Также в метрике возможен учет важности редких слов с возможностью корректировки весов.\n",
    "\n",
    "Для модели саммаризации преимущества этой метрики:\n",
    "- использование контекстных векторов (например, от BERT и подобных моделей) позволяет лучше понимать смысл текста, что особенно важно для выявления семантической близости между оригинальным текстом и его кратким содержанием. Это обеспечивает более точную оценку качества саммаризации.\n",
    "- Косинусное сходство между контекстуальными вложениями позволяет оценить, насколько близко содержание саммари соответствует оригинальному тексту, что дает больше понимания, насколько тексты получились содержательно близкими. Такое понимание традиционные метрики, основанные на перекрытии слов, дать не могут.\n",
    "- Линейное масштабирование значений метрики может облегчить интерпретацию результатов оценки. Это может способствовать более быстрой и точной корректировке моделей саммаризации.\n",
    "\n",
    "Для нашей задачи также важным бонусом метрики может быть учет редких слов, которые встречаются в новостных текстах."
   ]
  },
  {
   "cell_type": "code",
   "execution_count": 6,
   "metadata": {},
   "outputs": [],
   "source": [
    "precision_scores = []\n",
    "recall_scores = []\n",
    "f1_scores = []"
   ]
  },
  {
   "cell_type": "code",
   "execution_count": 7,
   "metadata": {},
   "outputs": [
    {
     "name": "stderr",
     "output_type": "stream",
     "text": [
      "26921it [20:57, 21.42it/s]\n"
     ]
    }
   ],
   "source": [
    "for text, summary, lang in tqdm.tqdm(zip(df[\"text\"], df[\"summary\"], df[\"lang\"])):\n",
    "    # lang_code = \"en\" if lang == \"en\" else \"ru\"\n",
    "    results = bertscore.compute(\n",
    "        predictions=[summary],\n",
    "        references=[text],\n",
    "        # lang=lang_code,\n",
    "        model_type=\"bert-base-multilingual-cased\",\n",
    "        device=device,\n",
    "    )\n",
    "    precision_scores.append(results[\"precision\"][0])\n",
    "    recall_scores.append(results[\"recall\"][0])\n",
    "    f1_scores.append(results[\"f1\"][0])"
   ]
  },
  {
   "cell_type": "code",
   "execution_count": 8,
   "metadata": {},
   "outputs": [],
   "source": [
    "df[\"precision_score\"] = precision_scores\n",
    "df[\"recall_score\"] = recall_scores\n",
    "df[\"f1_score\"] = f1_scores"
   ]
  },
  {
   "cell_type": "code",
   "execution_count": 9,
   "metadata": {},
   "outputs": [],
   "source": [
    "df.to_csv(\"./data/prods_locs_with_bert_scores.csv\", index=False)"
   ]
  },
  {
   "cell_type": "code",
   "execution_count": 10,
   "metadata": {},
   "outputs": [
    {
     "data": {
      "text/html": [
       "<div>\n",
       "<style scoped>\n",
       "    .dataframe tbody tr th:only-of-type {\n",
       "        vertical-align: middle;\n",
       "    }\n",
       "\n",
       "    .dataframe tbody tr th {\n",
       "        vertical-align: top;\n",
       "    }\n",
       "\n",
       "    .dataframe thead th {\n",
       "        text-align: right;\n",
       "    }\n",
       "</style>\n",
       "<table border=\"1\" class=\"dataframe\">\n",
       "  <thead>\n",
       "    <tr style=\"text-align: right;\">\n",
       "      <th></th>\n",
       "      <th>text</th>\n",
       "      <th>raw_product</th>\n",
       "      <th>product</th>\n",
       "      <th>raw_locations</th>\n",
       "      <th>locations</th>\n",
       "      <th>news_date</th>\n",
       "      <th>url</th>\n",
       "      <th>summary</th>\n",
       "      <th>lang</th>\n",
       "      <th>text_words</th>\n",
       "      <th>...</th>\n",
       "      <th>summary_unique_len</th>\n",
       "      <th>prod_num</th>\n",
       "      <th>locs_num</th>\n",
       "      <th>prod_locs_num</th>\n",
       "      <th>raw_locs_num</th>\n",
       "      <th>prod_match</th>\n",
       "      <th>locs_match</th>\n",
       "      <th>precision_score</th>\n",
       "      <th>recall_score</th>\n",
       "      <th>f1_score</th>\n",
       "    </tr>\n",
       "  </thead>\n",
       "  <tbody>\n",
       "    <tr>\n",
       "      <th>22225</th>\n",
       "      <td>The African nation of Chad has one of the worl...</td>\n",
       "      <td>electricity, energy, fossil fuels, Oil, renewa...</td>\n",
       "      <td>NaN</td>\n",
       "      <td>Chad, Chad ’ s, French, Morocco, nation, Seneg...</td>\n",
       "      <td>Франция, Чад</td>\n",
       "      <td>2022</td>\n",
       "      <td>https://africatimes.com/2022/06/19/new-solar-p...</td>\n",
       "      <td>French renewable energy company InnoVent is bu...</td>\n",
       "      <td>en</td>\n",
       "      <td>['the', 'african', 'nation', 'of', 'chad', 'ha...</td>\n",
       "      <td>...</td>\n",
       "      <td>24</td>\n",
       "      <td>6</td>\n",
       "      <td>2</td>\n",
       "      <td>8</td>\n",
       "      <td>8</td>\n",
       "      <td>2</td>\n",
       "      <td>2</td>\n",
       "      <td>0.801993</td>\n",
       "      <td>0.619051</td>\n",
       "      <td>0.698746</td>\n",
       "    </tr>\n",
       "    <tr>\n",
       "      <th>8684</th>\n",
       "      <td>Берлин, 24 сентября, 2023, 11:05 — ИА Регнум. ...</td>\n",
       "      <td>Gepard, IRIS-T, Taurus</td>\n",
       "      <td>Gepard</td>\n",
       "      <td>Берлин, Германия, Киев, США, Украина</td>\n",
       "      <td>Германия, Украина</td>\n",
       "      <td>2023</td>\n",
       "      <td>https://regnum.ru/news/3835031</td>\n",
       "      <td>Берлин собирается поставить Киеву 50 надводных...</td>\n",
       "      <td>ru</td>\n",
       "      <td>['берлин', ',', '24', 'сентября', ',', '2023,'...</td>\n",
       "      <td>...</td>\n",
       "      <td>39</td>\n",
       "      <td>3</td>\n",
       "      <td>2</td>\n",
       "      <td>5</td>\n",
       "      <td>5</td>\n",
       "      <td>2</td>\n",
       "      <td>3</td>\n",
       "      <td>0.875819</td>\n",
       "      <td>0.644148</td>\n",
       "      <td>0.742328</td>\n",
       "    </tr>\n",
       "    <tr>\n",
       "      <th>25721</th>\n",
       "      <td>Turkey's central bank slashed its key interest...</td>\n",
       "      <td>basic goods, currency bond, deposits</td>\n",
       "      <td>NaN</td>\n",
       "      <td>country's, Russian, the country, The country's...</td>\n",
       "      <td>Турция</td>\n",
       "      <td>2022</td>\n",
       "      <td>https://www.cnbc.com/2022/10/20/turkey-slashes...</td>\n",
       "      <td>On October 20, 2022, the Central Bank of Turke...</td>\n",
       "      <td>en</td>\n",
       "      <td>['turkey', \"'s\", 'central', 'bank', 'slashed',...</td>\n",
       "      <td>...</td>\n",
       "      <td>36</td>\n",
       "      <td>3</td>\n",
       "      <td>1</td>\n",
       "      <td>4</td>\n",
       "      <td>7</td>\n",
       "      <td>0</td>\n",
       "      <td>2</td>\n",
       "      <td>0.760952</td>\n",
       "      <td>0.610348</td>\n",
       "      <td>0.677380</td>\n",
       "    </tr>\n",
       "    <tr>\n",
       "      <th>14783</th>\n",
       "      <td>NEW DELHI: Development of the Chabahar port as...</td>\n",
       "      <td>aerospace technology, agricultural products,, ...</td>\n",
       "      <td>aerospace technology, agricultural products,, ...</td>\n",
       "      <td>Afghanistan, Armenia, Azerbaijan, Brazil - Rus...</td>\n",
       "      <td>Азербайджан, Армения, Афганистан, Иран, Палест...</td>\n",
       "      <td>2024</td>\n",
       "      <td>https://timesofindia.indiatimes.com/india/deve...</td>\n",
       "      <td>Development of the Chabahar port as a \"golden ...</td>\n",
       "      <td>en</td>\n",
       "      <td>['new', 'delhi', ':', 'development', 'of', 'th...</td>\n",
       "      <td>...</td>\n",
       "      <td>68</td>\n",
       "      <td>6</td>\n",
       "      <td>9</td>\n",
       "      <td>15</td>\n",
       "      <td>21</td>\n",
       "      <td>0</td>\n",
       "      <td>7</td>\n",
       "      <td>0.893717</td>\n",
       "      <td>0.733137</td>\n",
       "      <td>0.805502</td>\n",
       "    </tr>\n",
       "    <tr>\n",
       "      <th>20611</th>\n",
       "      <td>ЕК одобрила будущую покупку концерном Philip M...</td>\n",
       "      <td>IQOS, жевательный табак, сигара, сигарета, сиг...</td>\n",
       "      <td>NaN</td>\n",
       "      <td>американская, Москва, Стокгольм, шведская, Швеция</td>\n",
       "      <td>ЕС, США, Швеция</td>\n",
       "      <td>2022</td>\n",
       "      <td>https://www.interfax.ru/world/869496</td>\n",
       "      <td>Европейская комиссия одобрила планируемое прио...</td>\n",
       "      <td>ru</td>\n",
       "      <td>['ек', 'одобрила', 'будущую', 'покупку', 'конц...</td>\n",
       "      <td>...</td>\n",
       "      <td>16</td>\n",
       "      <td>8</td>\n",
       "      <td>3</td>\n",
       "      <td>11</td>\n",
       "      <td>5</td>\n",
       "      <td>0</td>\n",
       "      <td>1</td>\n",
       "      <td>0.795258</td>\n",
       "      <td>0.590961</td>\n",
       "      <td>0.678055</td>\n",
       "    </tr>\n",
       "  </tbody>\n",
       "</table>\n",
       "<p>5 rows × 29 columns</p>\n",
       "</div>"
      ],
      "text/plain": [
       "                                                    text  \\\n",
       "22225  The African nation of Chad has one of the worl...   \n",
       "8684   Берлин, 24 сентября, 2023, 11:05 — ИА Регнум. ...   \n",
       "25721  Turkey's central bank slashed its key interest...   \n",
       "14783  NEW DELHI: Development of the Chabahar port as...   \n",
       "20611  ЕК одобрила будущую покупку концерном Philip M...   \n",
       "\n",
       "                                             raw_product  \\\n",
       "22225  electricity, energy, fossil fuels, Oil, renewa...   \n",
       "8684                              Gepard, IRIS-T, Taurus   \n",
       "25721               basic goods, currency bond, deposits   \n",
       "14783  aerospace technology, agricultural products,, ...   \n",
       "20611  IQOS, жевательный табак, сигара, сигарета, сиг...   \n",
       "\n",
       "                                                 product  \\\n",
       "22225                                                NaN   \n",
       "8684                                              Gepard   \n",
       "25721                                                NaN   \n",
       "14783  aerospace technology, agricultural products,, ...   \n",
       "20611                                                NaN   \n",
       "\n",
       "                                           raw_locations  \\\n",
       "22225  Chad, Chad ’ s, French, Morocco, nation, Seneg...   \n",
       "8684                Берлин, Германия, Киев, США, Украина   \n",
       "25721  country's, Russian, the country, The country's...   \n",
       "14783  Afghanistan, Armenia, Azerbaijan, Brazil - Rus...   \n",
       "20611  американская, Москва, Стокгольм, шведская, Швеция   \n",
       "\n",
       "                                               locations  news_date  \\\n",
       "22225                                       Франция, Чад       2022   \n",
       "8684                                   Германия, Украина       2023   \n",
       "25721                                             Турция       2022   \n",
       "14783  Азербайджан, Армения, Афганистан, Иран, Палест...       2024   \n",
       "20611                                    ЕС, США, Швеция       2022   \n",
       "\n",
       "                                                     url  \\\n",
       "22225  https://africatimes.com/2022/06/19/new-solar-p...   \n",
       "8684                      https://regnum.ru/news/3835031   \n",
       "25721  https://www.cnbc.com/2022/10/20/turkey-slashes...   \n",
       "14783  https://timesofindia.indiatimes.com/india/deve...   \n",
       "20611               https://www.interfax.ru/world/869496   \n",
       "\n",
       "                                                 summary lang  \\\n",
       "22225  French renewable energy company InnoVent is bu...   en   \n",
       "8684   Берлин собирается поставить Киеву 50 надводных...   ru   \n",
       "25721  On October 20, 2022, the Central Bank of Turke...   en   \n",
       "14783  Development of the Chabahar port as a \"golden ...   en   \n",
       "20611  Европейская комиссия одобрила планируемое прио...   ru   \n",
       "\n",
       "                                              text_words  ...  \\\n",
       "22225  ['the', 'african', 'nation', 'of', 'chad', 'ha...  ...   \n",
       "8684   ['берлин', ',', '24', 'сентября', ',', '2023,'...  ...   \n",
       "25721  ['turkey', \"'s\", 'central', 'bank', 'slashed',...  ...   \n",
       "14783  ['new', 'delhi', ':', 'development', 'of', 'th...  ...   \n",
       "20611  ['ек', 'одобрила', 'будущую', 'покупку', 'конц...  ...   \n",
       "\n",
       "      summary_unique_len prod_num locs_num prod_locs_num raw_locs_num  \\\n",
       "22225                 24        6        2             8            8   \n",
       "8684                  39        3        2             5            5   \n",
       "25721                 36        3        1             4            7   \n",
       "14783                 68        6        9            15           21   \n",
       "20611                 16        8        3            11            5   \n",
       "\n",
       "       prod_match  locs_match  precision_score  recall_score  f1_score  \n",
       "22225           2           2         0.801993      0.619051  0.698746  \n",
       "8684            2           3         0.875819      0.644148  0.742328  \n",
       "25721           0           2         0.760952      0.610348  0.677380  \n",
       "14783           0           7         0.893717      0.733137  0.805502  \n",
       "20611           0           1         0.795258      0.590961  0.678055  \n",
       "\n",
       "[5 rows x 29 columns]"
      ]
     },
     "execution_count": 10,
     "metadata": {},
     "output_type": "execute_result"
    }
   ],
   "source": [
    "df.sample(5)"
   ]
  },
  {
   "cell_type": "markdown",
   "metadata": {},
   "source": [
    "BertSCORE позволяет посмотреть 3 оценки: precision, recall, f1\n",
    "\n",
    "<img src=./R_P_F_Bert.jpg>\n",
    "\n",
    "Precision BERTScore показывает, насколько точно модель саммаризации передает информацию из исходного текста. Он измеряет, сколько токенов в предложении-кандидате соответствуют токенам в эталонном предложении. Чем выше значение precision BERTScore, тем более точно модель передает информацию.\n",
    "\n",
    "Recall BERTScore показывает, насколько полно модель саммаризации передает информацию из исходного текста. Он измеряет, сколько токенов в эталонном предложении соответствуют токенам в предложении-кандидате. Чем выше значение recall BERTScore, тем более полно модель передает информацию.\n",
    "\n",
    "F1 BERTScore является объединением precision и recall BERTScore и показывает общую производительность модели саммаризации. Он учитывает как точность, так и полноту передачи информации из исходного текста. Чем выше значение f1 BERTScore, тем более точно и полно модель передает информацию.\n",
    "\n",
    "\n",
    "Для нашей задачи важно больше внимания обратить на метрику recall или на F1. Можно подумать про Fβ-меру, где β будет приближаться к 2.\n",
    "\n"
   ]
  },
  {
   "cell_type": "markdown",
   "metadata": {},
   "source": [
    "Посмотрим на метрику для нескольких случайных текстов и саммари в корпусе."
   ]
  },
  {
   "cell_type": "code",
   "execution_count": 11,
   "metadata": {},
   "outputs": [
    {
     "data": {
      "text/html": [
       "<div>\n",
       "<style scoped>\n",
       "    .dataframe tbody tr th:only-of-type {\n",
       "        vertical-align: middle;\n",
       "    }\n",
       "\n",
       "    .dataframe tbody tr th {\n",
       "        vertical-align: top;\n",
       "    }\n",
       "\n",
       "    .dataframe thead th {\n",
       "        text-align: right;\n",
       "    }\n",
       "</style>\n",
       "<table border=\"1\" class=\"dataframe\">\n",
       "  <thead>\n",
       "    <tr style=\"text-align: right;\">\n",
       "      <th></th>\n",
       "      <th>text</th>\n",
       "      <th>summary</th>\n",
       "    </tr>\n",
       "  </thead>\n",
       "  <tbody>\n",
       "    <tr>\n",
       "      <th>19794</th>\n",
       "      <td>Индийские компании по производству удобрений н...</td>\n",
       "      <td>Соглашение с канадской компанией Canpotex об и...</td>\n",
       "    </tr>\n",
       "    <tr>\n",
       "      <th>22686</th>\n",
       "      <td>Греция закупит у США вооружение против турецки...</td>\n",
       "      <td>Греция закупит у США вооружение против турецки...</td>\n",
       "    </tr>\n",
       "    <tr>\n",
       "      <th>8003</th>\n",
       "      <td>Cummins, Daimler Truck и Paccar создадут СП по...</td>\n",
       "      <td>Поставщик автодвигателей Cummins Inc. и произв...</td>\n",
       "    </tr>\n",
       "    <tr>\n",
       "      <th>12206</th>\n",
       "      <td>В Москве состоялось 24-е заседание Межправител...</td>\n",
       "      <td>В Москве состоялось 24-е заседание Межправител...</td>\n",
       "    </tr>\n",
       "    <tr>\n",
       "      <th>17338</th>\n",
       "      <td>По данным аналитического агентства MEPS Intern...</td>\n",
       "      <td>\\n\\nПо данным аналитического агентства MEPS In...</td>\n",
       "    </tr>\n",
       "    <tr>\n",
       "      <th>25436</th>\n",
       "      <td>Брюссель, , 11:14 — REGNUM Несмотря на восемь ...</td>\n",
       "      <td>Несмотря на восемь пакетов санкций, адресные м...</td>\n",
       "    </tr>\n",
       "  </tbody>\n",
       "</table>\n",
       "</div>"
      ],
      "text/plain": [
       "                                                    text  \\\n",
       "19794  Индийские компании по производству удобрений н...   \n",
       "22686  Греция закупит у США вооружение против турецки...   \n",
       "8003   Cummins, Daimler Truck и Paccar создадут СП по...   \n",
       "12206  В Москве состоялось 24-е заседание Межправител...   \n",
       "17338  По данным аналитического агентства MEPS Intern...   \n",
       "25436  Брюссель, , 11:14 — REGNUM Несмотря на восемь ...   \n",
       "\n",
       "                                                 summary  \n",
       "19794  Соглашение с канадской компанией Canpotex об и...  \n",
       "22686  Греция закупит у США вооружение против турецки...  \n",
       "8003   Поставщик автодвигателей Cummins Inc. и произв...  \n",
       "12206  В Москве состоялось 24-е заседание Межправител...  \n",
       "17338  \\n\\nПо данным аналитического агентства MEPS In...  \n",
       "25436  Несмотря на восемь пакетов санкций, адресные м...  "
      ]
     },
     "execution_count": 11,
     "metadata": {},
     "output_type": "execute_result"
    }
   ],
   "source": [
    "samp_ru = df[df[\"lang\"] == \"ru\"][[\"text\", \"summary\"]].sample(6, random_state=42)\n",
    "\n",
    "samp_ru"
   ]
  },
  {
   "cell_type": "code",
   "execution_count": 12,
   "metadata": {},
   "outputs": [
    {
     "data": {
      "text/plain": [
       "{'precision': [0.6212712526321411,\n",
       "  0.6383657455444336,\n",
       "  0.6244276165962219,\n",
       "  0.6479750871658325,\n",
       "  0.6232109069824219,\n",
       "  0.655181884765625],\n",
       " 'recall': [0.5568631887435913,\n",
       "  0.5833838582038879,\n",
       "  0.5825080871582031,\n",
       "  0.6470156311988831,\n",
       "  0.6114280819892883,\n",
       "  0.5811643004417419],\n",
       " 'f1': [0.5873066186904907,\n",
       "  0.6096376776695251,\n",
       "  0.6027398705482483,\n",
       "  0.6474949717521667,\n",
       "  0.6172633171081543,\n",
       "  0.6159574389457703],\n",
       " 'hashcode': 'bert-base-multilingual-cased_L9_no-idf_version=0.3.12(hug_trans=4.37.1)'}"
      ]
     },
     "execution_count": 12,
     "metadata": {},
     "output_type": "execute_result"
    }
   ],
   "source": [
    "results_ru = bertscore.compute(\n",
    "    predictions=samp_ru.summary.values,\n",
    "    references=samp_ru.text.values[::-1],\n",
    "    model_type=\"bert-base-multilingual-cased\",\n",
    "    device=device,\n",
    ")\n",
    "results_ru"
   ]
  },
  {
   "cell_type": "code",
   "execution_count": 13,
   "metadata": {},
   "outputs": [
    {
     "data": {
      "text/plain": [
       "(0.6350720822811127, 0.593727191289266, 0.6133999824523926)"
      ]
     },
     "execution_count": 13,
     "metadata": {},
     "output_type": "execute_result"
    }
   ],
   "source": [
    "np.mean(results_ru[\"precision\"]), np.mean(results_ru[\"recall\"]), np.mean(results_ru[\"f1\"])"
   ]
  },
  {
   "cell_type": "code",
   "execution_count": 14,
   "metadata": {},
   "outputs": [],
   "source": [
    "samp_en = df[df[\"lang\"] == \"en\"][[\"text\", \"summary\"]].sample(6, random_state=42)"
   ]
  },
  {
   "cell_type": "code",
   "execution_count": 15,
   "metadata": {},
   "outputs": [
    {
     "data": {
      "text/plain": [
       "{'precision': [0.6776880621910095,\n",
       "  0.6565109491348267,\n",
       "  0.674109935760498,\n",
       "  0.6929532289505005,\n",
       "  0.6811769604682922,\n",
       "  0.6441564559936523],\n",
       " 'recall': [0.5868151187896729,\n",
       "  0.6071188449859619,\n",
       "  0.6067104339599609,\n",
       "  0.5847164392471313,\n",
       "  0.6085753440856934,\n",
       "  0.6234582662582397],\n",
       " 'f1': [0.6289862990379333,\n",
       "  0.6308495998382568,\n",
       "  0.6386368274688721,\n",
       "  0.6342502236366272,\n",
       "  0.6428327560424805,\n",
       "  0.6336383819580078],\n",
       " 'hashcode': 'bert-base-multilingual-cased_L9_no-idf_version=0.3.12(hug_trans=4.37.1)'}"
      ]
     },
     "execution_count": 15,
     "metadata": {},
     "output_type": "execute_result"
    }
   ],
   "source": [
    "results_en = bertscore.compute(\n",
    "    predictions=samp_en.summary.values,\n",
    "    references=samp_en.text.values[::-1],\n",
    "    lang=\"en\",\n",
    "    model_type=\"bert-base-multilingual-cased\",\n",
    "    device=device,\n",
    ")\n",
    "results_en"
   ]
  },
  {
   "cell_type": "code",
   "execution_count": 16,
   "metadata": {},
   "outputs": [
    {
     "data": {
      "text/plain": [
       "(0.6710992654164633, 0.6028990745544434, 0.6348656813303629)"
      ]
     },
     "execution_count": 16,
     "metadata": {},
     "output_type": "execute_result"
    }
   ],
   "source": [
    "np.mean(results_en[\"precision\"]), np.mean(results_en[\"recall\"]), np.mean(\n",
    "    results_en[\"f1\"]\n",
    ")"
   ]
  },
  {
   "cell_type": "markdown",
   "metadata": {},
   "source": [
    "Результат мерики для случайных предложений около 0,63, 0.57, 0.6 и 0.67, 0.6, 0.63 для русского и английского языков соответственно."
   ]
  },
  {
   "cell_type": "markdown",
   "metadata": {},
   "source": [
    "Посмотрим на результаты для саммари"
   ]
  },
  {
   "cell_type": "code",
   "execution_count": 17,
   "metadata": {},
   "outputs": [
    {
     "data": {
      "text/html": [
       "<div>\n",
       "<style scoped>\n",
       "    .dataframe tbody tr th:only-of-type {\n",
       "        vertical-align: middle;\n",
       "    }\n",
       "\n",
       "    .dataframe tbody tr th {\n",
       "        vertical-align: top;\n",
       "    }\n",
       "\n",
       "    .dataframe thead th {\n",
       "        text-align: right;\n",
       "    }\n",
       "</style>\n",
       "<table border=\"1\" class=\"dataframe\">\n",
       "  <thead>\n",
       "    <tr style=\"text-align: right;\">\n",
       "      <th></th>\n",
       "      <th>precision_score</th>\n",
       "      <th>recall_score</th>\n",
       "      <th>f1_score</th>\n",
       "    </tr>\n",
       "  </thead>\n",
       "  <tbody>\n",
       "    <tr>\n",
       "      <th>count</th>\n",
       "      <td>26921.000000</td>\n",
       "      <td>26921.000000</td>\n",
       "      <td>26921.000000</td>\n",
       "    </tr>\n",
       "    <tr>\n",
       "      <th>mean</th>\n",
       "      <td>0.855738</td>\n",
       "      <td>0.685404</td>\n",
       "      <td>0.759816</td>\n",
       "    </tr>\n",
       "    <tr>\n",
       "      <th>std</th>\n",
       "      <td>0.052763</td>\n",
       "      <td>0.081000</td>\n",
       "      <td>0.065605</td>\n",
       "    </tr>\n",
       "    <tr>\n",
       "      <th>min</th>\n",
       "      <td>0.560702</td>\n",
       "      <td>0.454958</td>\n",
       "      <td>0.519550</td>\n",
       "    </tr>\n",
       "    <tr>\n",
       "      <th>25%</th>\n",
       "      <td>0.826724</td>\n",
       "      <td>0.628543</td>\n",
       "      <td>0.714708</td>\n",
       "    </tr>\n",
       "    <tr>\n",
       "      <th>50%</th>\n",
       "      <td>0.859698</td>\n",
       "      <td>0.668003</td>\n",
       "      <td>0.749044</td>\n",
       "    </tr>\n",
       "    <tr>\n",
       "      <th>75%</th>\n",
       "      <td>0.887120</td>\n",
       "      <td>0.726442</td>\n",
       "      <td>0.796844</td>\n",
       "    </tr>\n",
       "    <tr>\n",
       "      <th>max</th>\n",
       "      <td>1.000000</td>\n",
       "      <td>1.000000</td>\n",
       "      <td>1.000000</td>\n",
       "    </tr>\n",
       "  </tbody>\n",
       "</table>\n",
       "</div>"
      ],
      "text/plain": [
       "       precision_score  recall_score      f1_score\n",
       "count     26921.000000  26921.000000  26921.000000\n",
       "mean          0.855738      0.685404      0.759816\n",
       "std           0.052763      0.081000      0.065605\n",
       "min           0.560702      0.454958      0.519550\n",
       "25%           0.826724      0.628543      0.714708\n",
       "50%           0.859698      0.668003      0.749044\n",
       "75%           0.887120      0.726442      0.796844\n",
       "max           1.000000      1.000000      1.000000"
      ]
     },
     "execution_count": 17,
     "metadata": {},
     "output_type": "execute_result"
    }
   ],
   "source": [
    "df[[\"precision_score\", \"recall_score\", \"f1_score\"]].describe()"
   ]
  },
  {
   "cell_type": "markdown",
   "metadata": {},
   "source": [
    "Таким образом recall_score равный случайным парам определен для 25% текстов, что надо еще дополнительно исследовать. Две дургие метрики показывают большее количество значений отличных от случайных. "
   ]
  },
  {
   "cell_type": "code",
   "execution_count": 44,
   "metadata": {},
   "outputs": [
    {
     "data": {
      "text/plain": [
       "<Axes: >"
      ]
     },
     "execution_count": 44,
     "metadata": {},
     "output_type": "execute_result"
    },
    {
     "data": {
      "image/png": "[encoded data removed]",
      "text/plain": [
       "<Figure size 1400x1200 with 2 Axes>"
      ]
     },
     "metadata": {},
     "output_type": "display_data"
    }
   ],
   "source": [
    "corr_m = df.select_dtypes(include=np.number).corr()\n",
    "plt.figsize = (10, 8)\n",
    "sns.heatmap(corr_m, annot=True, cmap=\"mako\", fmt=\".2f\")"
   ]
  },
  {
   "cell_type": "markdown",
   "metadata": {},
   "source": [
    "Видна заметная корреляция полноты и данных, связанных с длиной саммари. Т.е. с ростом длины саммари и полнота быдет увеличиваться.\n",
    "При этом нет никаких линейных зависимостей с такими показателями как количество продуктов, локаций или их матчингом."
   ]
  },
  {
   "cell_type": "code",
   "execution_count": 34,
   "metadata": {},
   "outputs": [
    {
     "data": {
      "text/html": [
       "<div>\n",
       "<style scoped>\n",
       "    .dataframe tbody tr th:only-of-type {\n",
       "        vertical-align: middle;\n",
       "    }\n",
       "\n",
       "    .dataframe tbody tr th {\n",
       "        vertical-align: top;\n",
       "    }\n",
       "\n",
       "    .dataframe thead th {\n",
       "        text-align: right;\n",
       "    }\n",
       "</style>\n",
       "<table border=\"1\" class=\"dataframe\">\n",
       "  <thead>\n",
       "    <tr style=\"text-align: right;\">\n",
       "      <th></th>\n",
       "      <th>news_date</th>\n",
       "      <th>num_summary_sents</th>\n",
       "      <th>text_len</th>\n",
       "      <th>summary_len</th>\n",
       "      <th>text_unique_len</th>\n",
       "      <th>summary_unique_len</th>\n",
       "      <th>prod_num</th>\n",
       "      <th>locs_num</th>\n",
       "      <th>prod_locs_num</th>\n",
       "      <th>raw_locs_num</th>\n",
       "      <th>prod_match</th>\n",
       "      <th>locs_match</th>\n",
       "      <th>precision_score</th>\n",
       "      <th>recall_score</th>\n",
       "      <th>f1_score</th>\n",
       "    </tr>\n",
       "  </thead>\n",
       "  <tbody>\n",
       "    <tr>\n",
       "      <th>count</th>\n",
       "      <td>26921.000000</td>\n",
       "      <td>26921.000000</td>\n",
       "      <td>26921.000000</td>\n",
       "      <td>26921.000000</td>\n",
       "      <td>26921.000000</td>\n",
       "      <td>26921.000000</td>\n",
       "      <td>26921.000000</td>\n",
       "      <td>26921.000000</td>\n",
       "      <td>26921.000000</td>\n",
       "      <td>26921.000000</td>\n",
       "      <td>26921.000000</td>\n",
       "      <td>26921.000000</td>\n",
       "      <td>26921.000000</td>\n",
       "      <td>26921.000000</td>\n",
       "      <td>26921.000000</td>\n",
       "    </tr>\n",
       "    <tr>\n",
       "      <th>mean</th>\n",
       "      <td>2022.717507</td>\n",
       "      <td>2.410609</td>\n",
       "      <td>339.858623</td>\n",
       "      <td>57.885703</td>\n",
       "      <td>179.266298</td>\n",
       "      <td>42.689053</td>\n",
       "      <td>3.805059</td>\n",
       "      <td>2.901452</td>\n",
       "      <td>6.706512</td>\n",
       "      <td>6.040117</td>\n",
       "      <td>1.517626</td>\n",
       "      <td>2.864715</td>\n",
       "      <td>0.855738</td>\n",
       "      <td>0.685404</td>\n",
       "      <td>0.759816</td>\n",
       "    </tr>\n",
       "    <tr>\n",
       "      <th>std</th>\n",
       "      <td>0.718071</td>\n",
       "      <td>1.873856</td>\n",
       "      <td>287.230124</td>\n",
       "      <td>43.912526</td>\n",
       "      <td>107.715098</td>\n",
       "      <td>23.953803</td>\n",
       "      <td>3.878470</td>\n",
       "      <td>2.279027</td>\n",
       "      <td>4.547349</td>\n",
       "      <td>4.276298</td>\n",
       "      <td>1.831963</td>\n",
       "      <td>2.275681</td>\n",
       "      <td>0.052763</td>\n",
       "      <td>0.081000</td>\n",
       "      <td>0.065605</td>\n",
       "    </tr>\n",
       "    <tr>\n",
       "      <th>min</th>\n",
       "      <td>2020.000000</td>\n",
       "      <td>1.000000</td>\n",
       "      <td>7.000000</td>\n",
       "      <td>5.000000</td>\n",
       "      <td>7.000000</td>\n",
       "      <td>5.000000</td>\n",
       "      <td>1.000000</td>\n",
       "      <td>1.000000</td>\n",
       "      <td>2.000000</td>\n",
       "      <td>1.000000</td>\n",
       "      <td>0.000000</td>\n",
       "      <td>0.000000</td>\n",
       "      <td>0.560702</td>\n",
       "      <td>0.454958</td>\n",
       "      <td>0.519550</td>\n",
       "    </tr>\n",
       "    <tr>\n",
       "      <th>25%</th>\n",
       "      <td>2022.000000</td>\n",
       "      <td>1.000000</td>\n",
       "      <td>179.000000</td>\n",
       "      <td>27.000000</td>\n",
       "      <td>114.000000</td>\n",
       "      <td>25.000000</td>\n",
       "      <td>1.000000</td>\n",
       "      <td>2.000000</td>\n",
       "      <td>4.000000</td>\n",
       "      <td>3.000000</td>\n",
       "      <td>0.000000</td>\n",
       "      <td>1.000000</td>\n",
       "      <td>0.826724</td>\n",
       "      <td>0.628543</td>\n",
       "      <td>0.714708</td>\n",
       "    </tr>\n",
       "    <tr>\n",
       "      <th>50%</th>\n",
       "      <td>2023.000000</td>\n",
       "      <td>2.000000</td>\n",
       "      <td>261.000000</td>\n",
       "      <td>44.000000</td>\n",
       "      <td>156.000000</td>\n",
       "      <td>36.000000</td>\n",
       "      <td>3.000000</td>\n",
       "      <td>2.000000</td>\n",
       "      <td>5.000000</td>\n",
       "      <td>5.000000</td>\n",
       "      <td>1.000000</td>\n",
       "      <td>2.000000</td>\n",
       "      <td>0.859698</td>\n",
       "      <td>0.668003</td>\n",
       "      <td>0.749044</td>\n",
       "    </tr>\n",
       "    <tr>\n",
       "      <th>75%</th>\n",
       "      <td>2023.000000</td>\n",
       "      <td>3.000000</td>\n",
       "      <td>405.000000</td>\n",
       "      <td>77.000000</td>\n",
       "      <td>216.000000</td>\n",
       "      <td>56.000000</td>\n",
       "      <td>5.000000</td>\n",
       "      <td>3.000000</td>\n",
       "      <td>8.000000</td>\n",
       "      <td>8.000000</td>\n",
       "      <td>2.000000</td>\n",
       "      <td>4.000000</td>\n",
       "      <td>0.887120</td>\n",
       "      <td>0.726442</td>\n",
       "      <td>0.796844</td>\n",
       "    </tr>\n",
       "    <tr>\n",
       "      <th>max</th>\n",
       "      <td>2024.000000</td>\n",
       "      <td>32.000000</td>\n",
       "      <td>5636.000000</td>\n",
       "      <td>517.000000</td>\n",
       "      <td>2274.000000</td>\n",
       "      <td>209.000000</td>\n",
       "      <td>100.000000</td>\n",
       "      <td>53.000000</td>\n",
       "      <td>102.000000</td>\n",
       "      <td>54.000000</td>\n",
       "      <td>37.000000</td>\n",
       "      <td>34.000000</td>\n",
       "      <td>1.000000</td>\n",
       "      <td>1.000000</td>\n",
       "      <td>1.000000</td>\n",
       "    </tr>\n",
       "  </tbody>\n",
       "</table>\n",
       "</div>"
      ],
      "text/plain": [
       "          news_date  num_summary_sents      text_len   summary_len  \\\n",
       "count  26921.000000       26921.000000  26921.000000  26921.000000   \n",
       "mean    2022.717507           2.410609    339.858623     57.885703   \n",
       "std        0.718071           1.873856    287.230124     43.912526   \n",
       "min     2020.000000           1.000000      7.000000      5.000000   \n",
       "25%     2022.000000           1.000000    179.000000     27.000000   \n",
       "50%     2023.000000           2.000000    261.000000     44.000000   \n",
       "75%     2023.000000           3.000000    405.000000     77.000000   \n",
       "max     2024.000000          32.000000   5636.000000    517.000000   \n",
       "\n",
       "       text_unique_len  summary_unique_len      prod_num      locs_num  \\\n",
       "count     26921.000000        26921.000000  26921.000000  26921.000000   \n",
       "mean        179.266298           42.689053      3.805059      2.901452   \n",
       "std         107.715098           23.953803      3.878470      2.279027   \n",
       "min           7.000000            5.000000      1.000000      1.000000   \n",
       "25%         114.000000           25.000000      1.000000      2.000000   \n",
       "50%         156.000000           36.000000      3.000000      2.000000   \n",
       "75%         216.000000           56.000000      5.000000      3.000000   \n",
       "max        2274.000000          209.000000    100.000000     53.000000   \n",
       "\n",
       "       prod_locs_num  raw_locs_num    prod_match    locs_match  \\\n",
       "count   26921.000000  26921.000000  26921.000000  26921.000000   \n",
       "mean        6.706512      6.040117      1.517626      2.864715   \n",
       "std         4.547349      4.276298      1.831963      2.275681   \n",
       "min         2.000000      1.000000      0.000000      0.000000   \n",
       "25%         4.000000      3.000000      0.000000      1.000000   \n",
       "50%         5.000000      5.000000      1.000000      2.000000   \n",
       "75%         8.000000      8.000000      2.000000      4.000000   \n",
       "max       102.000000     54.000000     37.000000     34.000000   \n",
       "\n",
       "       precision_score  recall_score      f1_score  \n",
       "count     26921.000000  26921.000000  26921.000000  \n",
       "mean          0.855738      0.685404      0.759816  \n",
       "std           0.052763      0.081000      0.065605  \n",
       "min           0.560702      0.454958      0.519550  \n",
       "25%           0.826724      0.628543      0.714708  \n",
       "50%           0.859698      0.668003      0.749044  \n",
       "75%           0.887120      0.726442      0.796844  \n",
       "max           1.000000      1.000000      1.000000  "
      ]
     },
     "execution_count": 34,
     "metadata": {},
     "output_type": "execute_result"
    }
   ],
   "source": [
    "df.describe()"
   ]
  },
  {
   "cell_type": "code",
   "execution_count": 35,
   "metadata": {},
   "outputs": [
    {
     "data": {
      "text/plain": [
       "(621, 29)"
      ]
     },
     "execution_count": 35,
     "metadata": {},
     "output_type": "execute_result"
    }
   ],
   "source": [
    "rec_57 = df[df.recall_score <= 0.57]\n",
    "rec_57.shape"
   ]
  },
  {
   "cell_type": "markdown",
   "metadata": {},
   "source": [
    "Посмотрим статистики текстов, которые показали метрику recall сходную случайной и ниже"
   ]
  },
  {
   "cell_type": "code",
   "execution_count": 33,
   "metadata": {},
   "outputs": [
    {
     "data": {
      "text/html": [
       "<div>\n",
       "<style scoped>\n",
       "    .dataframe tbody tr th:only-of-type {\n",
       "        vertical-align: middle;\n",
       "    }\n",
       "\n",
       "    .dataframe tbody tr th {\n",
       "        vertical-align: top;\n",
       "    }\n",
       "\n",
       "    .dataframe thead th {\n",
       "        text-align: right;\n",
       "    }\n",
       "</style>\n",
       "<table border=\"1\" class=\"dataframe\">\n",
       "  <thead>\n",
       "    <tr style=\"text-align: right;\">\n",
       "      <th></th>\n",
       "      <th>news_date</th>\n",
       "      <th>num_summary_sents</th>\n",
       "      <th>text_len</th>\n",
       "      <th>summary_len</th>\n",
       "      <th>text_unique_len</th>\n",
       "      <th>summary_unique_len</th>\n",
       "      <th>prod_num</th>\n",
       "      <th>locs_num</th>\n",
       "      <th>prod_locs_num</th>\n",
       "      <th>raw_locs_num</th>\n",
       "      <th>prod_match</th>\n",
       "      <th>locs_match</th>\n",
       "      <th>precision_score</th>\n",
       "      <th>recall_score</th>\n",
       "      <th>f1_score</th>\n",
       "    </tr>\n",
       "  </thead>\n",
       "  <tbody>\n",
       "    <tr>\n",
       "      <th>count</th>\n",
       "      <td>621.000000</td>\n",
       "      <td>621.000000</td>\n",
       "      <td>621.000000</td>\n",
       "      <td>621.000000</td>\n",
       "      <td>621.000000</td>\n",
       "      <td>621.000000</td>\n",
       "      <td>621.000000</td>\n",
       "      <td>621.000000</td>\n",
       "      <td>621.000000</td>\n",
       "      <td>621.000000</td>\n",
       "      <td>621.000000</td>\n",
       "      <td>621.000000</td>\n",
       "      <td>621.000000</td>\n",
       "      <td>621.000000</td>\n",
       "      <td>621.000000</td>\n",
       "    </tr>\n",
       "    <tr>\n",
       "      <th>mean</th>\n",
       "      <td>2022.513688</td>\n",
       "      <td>1.104670</td>\n",
       "      <td>589.246377</td>\n",
       "      <td>20.260870</td>\n",
       "      <td>251.491143</td>\n",
       "      <td>18.668277</td>\n",
       "      <td>4.510467</td>\n",
       "      <td>2.190016</td>\n",
       "      <td>6.700483</td>\n",
       "      <td>6.855072</td>\n",
       "      <td>0.850242</td>\n",
       "      <td>1.942029</td>\n",
       "      <td>0.781612</td>\n",
       "      <td>0.550677</td>\n",
       "      <td>0.645181</td>\n",
       "    </tr>\n",
       "    <tr>\n",
       "      <th>std</th>\n",
       "      <td>0.682894</td>\n",
       "      <td>0.417744</td>\n",
       "      <td>529.813018</td>\n",
       "      <td>11.830506</td>\n",
       "      <td>199.546394</td>\n",
       "      <td>9.069771</td>\n",
       "      <td>5.608631</td>\n",
       "      <td>1.014077</td>\n",
       "      <td>5.662310</td>\n",
       "      <td>5.272717</td>\n",
       "      <td>0.958049</td>\n",
       "      <td>1.127310</td>\n",
       "      <td>0.057529</td>\n",
       "      <td>0.018498</td>\n",
       "      <td>0.026129</td>\n",
       "    </tr>\n",
       "    <tr>\n",
       "      <th>min</th>\n",
       "      <td>2020.000000</td>\n",
       "      <td>1.000000</td>\n",
       "      <td>75.000000</td>\n",
       "      <td>5.000000</td>\n",
       "      <td>49.000000</td>\n",
       "      <td>5.000000</td>\n",
       "      <td>1.000000</td>\n",
       "      <td>1.000000</td>\n",
       "      <td>2.000000</td>\n",
       "      <td>1.000000</td>\n",
       "      <td>0.000000</td>\n",
       "      <td>0.000000</td>\n",
       "      <td>0.587059</td>\n",
       "      <td>0.454958</td>\n",
       "      <td>0.519550</td>\n",
       "    </tr>\n",
       "    <tr>\n",
       "      <th>25%</th>\n",
       "      <td>2022.000000</td>\n",
       "      <td>1.000000</td>\n",
       "      <td>295.000000</td>\n",
       "      <td>13.000000</td>\n",
       "      <td>164.000000</td>\n",
       "      <td>13.000000</td>\n",
       "      <td>2.000000</td>\n",
       "      <td>2.000000</td>\n",
       "      <td>4.000000</td>\n",
       "      <td>3.000000</td>\n",
       "      <td>0.000000</td>\n",
       "      <td>1.000000</td>\n",
       "      <td>0.757063</td>\n",
       "      <td>0.542759</td>\n",
       "      <td>0.632348</td>\n",
       "    </tr>\n",
       "    <tr>\n",
       "      <th>50%</th>\n",
       "      <td>2023.000000</td>\n",
       "      <td>1.000000</td>\n",
       "      <td>551.000000</td>\n",
       "      <td>17.000000</td>\n",
       "      <td>223.000000</td>\n",
       "      <td>17.000000</td>\n",
       "      <td>3.000000</td>\n",
       "      <td>2.000000</td>\n",
       "      <td>5.000000</td>\n",
       "      <td>6.000000</td>\n",
       "      <td>1.000000</td>\n",
       "      <td>2.000000</td>\n",
       "      <td>0.796598</td>\n",
       "      <td>0.556590</td>\n",
       "      <td>0.650041</td>\n",
       "    </tr>\n",
       "    <tr>\n",
       "      <th>75%</th>\n",
       "      <td>2023.000000</td>\n",
       "      <td>1.000000</td>\n",
       "      <td>708.000000</td>\n",
       "      <td>25.000000</td>\n",
       "      <td>275.000000</td>\n",
       "      <td>23.000000</td>\n",
       "      <td>5.000000</td>\n",
       "      <td>2.000000</td>\n",
       "      <td>7.000000</td>\n",
       "      <td>9.000000</td>\n",
       "      <td>1.000000</td>\n",
       "      <td>2.000000</td>\n",
       "      <td>0.818632</td>\n",
       "      <td>0.564620</td>\n",
       "      <td>0.664019</td>\n",
       "    </tr>\n",
       "    <tr>\n",
       "      <th>max</th>\n",
       "      <td>2024.000000</td>\n",
       "      <td>5.000000</td>\n",
       "      <td>5337.000000</td>\n",
       "      <td>110.000000</td>\n",
       "      <td>2274.000000</td>\n",
       "      <td>80.000000</td>\n",
       "      <td>60.000000</td>\n",
       "      <td>9.000000</td>\n",
       "      <td>62.000000</td>\n",
       "      <td>52.000000</td>\n",
       "      <td>6.000000</td>\n",
       "      <td>7.000000</td>\n",
       "      <td>0.883107</td>\n",
       "      <td>0.569986</td>\n",
       "      <td>0.690731</td>\n",
       "    </tr>\n",
       "  </tbody>\n",
       "</table>\n",
       "</div>"
      ],
      "text/plain": [
       "         news_date  num_summary_sents     text_len  summary_len  \\\n",
       "count   621.000000         621.000000   621.000000   621.000000   \n",
       "mean   2022.513688           1.104670   589.246377    20.260870   \n",
       "std       0.682894           0.417744   529.813018    11.830506   \n",
       "min    2020.000000           1.000000    75.000000     5.000000   \n",
       "25%    2022.000000           1.000000   295.000000    13.000000   \n",
       "50%    2023.000000           1.000000   551.000000    17.000000   \n",
       "75%    2023.000000           1.000000   708.000000    25.000000   \n",
       "max    2024.000000           5.000000  5337.000000   110.000000   \n",
       "\n",
       "       text_unique_len  summary_unique_len    prod_num    locs_num  \\\n",
       "count       621.000000          621.000000  621.000000  621.000000   \n",
       "mean        251.491143           18.668277    4.510467    2.190016   \n",
       "std         199.546394            9.069771    5.608631    1.014077   \n",
       "min          49.000000            5.000000    1.000000    1.000000   \n",
       "25%         164.000000           13.000000    2.000000    2.000000   \n",
       "50%         223.000000           17.000000    3.000000    2.000000   \n",
       "75%         275.000000           23.000000    5.000000    2.000000   \n",
       "max        2274.000000           80.000000   60.000000    9.000000   \n",
       "\n",
       "       prod_locs_num  raw_locs_num  prod_match  locs_match  precision_score  \\\n",
       "count     621.000000    621.000000  621.000000  621.000000       621.000000   \n",
       "mean        6.700483      6.855072    0.850242    1.942029         0.781612   \n",
       "std         5.662310      5.272717    0.958049    1.127310         0.057529   \n",
       "min         2.000000      1.000000    0.000000    0.000000         0.587059   \n",
       "25%         4.000000      3.000000    0.000000    1.000000         0.757063   \n",
       "50%         5.000000      6.000000    1.000000    2.000000         0.796598   \n",
       "75%         7.000000      9.000000    1.000000    2.000000         0.818632   \n",
       "max        62.000000     52.000000    6.000000    7.000000         0.883107   \n",
       "\n",
       "       recall_score    f1_score  \n",
       "count    621.000000  621.000000  \n",
       "mean       0.550677    0.645181  \n",
       "std        0.018498    0.026129  \n",
       "min        0.454958    0.519550  \n",
       "25%        0.542759    0.632348  \n",
       "50%        0.556590    0.650041  \n",
       "75%        0.564620    0.664019  \n",
       "max        0.569986    0.690731  "
      ]
     },
     "execution_count": 33,
     "metadata": {},
     "output_type": "execute_result"
    }
   ],
   "source": [
    "rec_57.describe()"
   ]
  },
  {
   "cell_type": "markdown",
   "metadata": {},
   "source": [
    "Тут тексты с длиной саммари от 5 до 110 символов. При этом основная часть этой подвыборки, 75%, содержит от 5 до 25 слов в саммари. и в этой же части данных 1-5 продуктов, 1-2 локации.\n",
    "\n",
    "В целом это достаточно логично, что при небольшом количестве слов полнота передачи информации может быть небольшой. С другой стороны - если локаций и продуктов не очень много, то и длина саммари может быть небольшой, поэтому я не совсем понимаю, показательно это или нет.\n",
    "\n",
    "Посмотрим на самые длинные саммари этой части данных с низкой полнотой."
   ]
  },
  {
   "cell_type": "code",
   "execution_count": 43,
   "metadata": {},
   "outputs": [
    {
     "data": {
      "text/html": [
       "<div>\n",
       "<style scoped>\n",
       "    .dataframe tbody tr th:only-of-type {\n",
       "        vertical-align: middle;\n",
       "    }\n",
       "\n",
       "    .dataframe tbody tr th {\n",
       "        vertical-align: top;\n",
       "    }\n",
       "\n",
       "    .dataframe thead th {\n",
       "        text-align: right;\n",
       "    }\n",
       "</style>\n",
       "<table border=\"1\" class=\"dataframe\">\n",
       "  <thead>\n",
       "    <tr style=\"text-align: right;\">\n",
       "      <th></th>\n",
       "      <th>text</th>\n",
       "      <th>raw_product</th>\n",
       "      <th>product</th>\n",
       "      <th>raw_locations</th>\n",
       "      <th>locations</th>\n",
       "      <th>news_date</th>\n",
       "      <th>url</th>\n",
       "      <th>summary</th>\n",
       "      <th>lang</th>\n",
       "      <th>text_words</th>\n",
       "      <th>...</th>\n",
       "      <th>summary_unique_len</th>\n",
       "      <th>prod_num</th>\n",
       "      <th>locs_num</th>\n",
       "      <th>prod_locs_num</th>\n",
       "      <th>raw_locs_num</th>\n",
       "      <th>prod_match</th>\n",
       "      <th>locs_match</th>\n",
       "      <th>precision_score</th>\n",
       "      <th>recall_score</th>\n",
       "      <th>f1_score</th>\n",
       "    </tr>\n",
       "  </thead>\n",
       "  <tbody>\n",
       "    <tr>\n",
       "      <th>411</th>\n",
       "      <td>https://ria.ru/20221128/lukashenko-1834694302....</td>\n",
       "      <td>продукты питание, техника</td>\n",
       "      <td>продукты питание, техника</td>\n",
       "      <td>Беларусь, белоруссия, Белоруссия, белорусская,...</td>\n",
       "      <td>Беларусь, Россия</td>\n",
       "      <td>2022</td>\n",
       "      <td>https://ria.ru/20221128/lukashenko-1834694302....</td>\n",
       "      <td>Президент Белоруссии Александр Лукашенко собир...</td>\n",
       "      <td>ru</td>\n",
       "      <td>['https', ':', '/', '/', 'ria', '.', 'ru', '/'...</td>\n",
       "      <td>...</td>\n",
       "      <td>46</td>\n",
       "      <td>2</td>\n",
       "      <td>2</td>\n",
       "      <td>4</td>\n",
       "      <td>7</td>\n",
       "      <td>0</td>\n",
       "      <td>2</td>\n",
       "      <td>0.695524</td>\n",
       "      <td>0.569651</td>\n",
       "      <td>0.626326</td>\n",
       "    </tr>\n",
       "    <tr>\n",
       "      <th>4726</th>\n",
       "      <td>One year of Russia’s war in Ukraine Portraits ...</td>\n",
       "      <td>gas, oil</td>\n",
       "      <td>oil</td>\n",
       "      <td>Russia, Russian, Ukraine, Ukrainian, Western</td>\n",
       "      <td>Уганда, Китай, Танзания</td>\n",
       "      <td>2023</td>\n",
       "      <td>https://www.washingtonpost.com/world/2023/05/1...</td>\n",
       "      <td>Uganda's Ministry of Energy said that major Ch...</td>\n",
       "      <td>en</td>\n",
       "      <td>['one', 'year', 'of', 'russia', '’', 's', 'war...</td>\n",
       "      <td>...</td>\n",
       "      <td>43</td>\n",
       "      <td>2</td>\n",
       "      <td>3</td>\n",
       "      <td>5</td>\n",
       "      <td>5</td>\n",
       "      <td>1</td>\n",
       "      <td>0</td>\n",
       "      <td>0.628879</td>\n",
       "      <td>0.568345</td>\n",
       "      <td>0.597082</td>\n",
       "    </tr>\n",
       "    <tr>\n",
       "      <th>5033</th>\n",
       "      <td>https://ria.ru/20230526/sanktsii-1874238714.ht...</td>\n",
       "      <td>3D, водка, древесина, золото, квантовые компью...</td>\n",
       "      <td>водка, древесина, золото, квантовые компьютеры...</td>\n",
       "      <td>Запад, Киев, российские, россия, Россия, РФ, С...</td>\n",
       "      <td>Япония, Россия</td>\n",
       "      <td>2023</td>\n",
       "      <td>https://ria.ru/20230526/sanktsii-1874238714.html</td>\n",
       "      <td>Япония ввела новый пакет санкций против прокур...</td>\n",
       "      <td>ru</td>\n",
       "      <td>['https', ':', '/', '/', 'ria', '.', 'ru', '/'...</td>\n",
       "      <td>...</td>\n",
       "      <td>50</td>\n",
       "      <td>13</td>\n",
       "      <td>2</td>\n",
       "      <td>15</td>\n",
       "      <td>8</td>\n",
       "      <td>0</td>\n",
       "      <td>2</td>\n",
       "      <td>0.701643</td>\n",
       "      <td>0.567723</td>\n",
       "      <td>0.627619</td>\n",
       "    </tr>\n",
       "    <tr>\n",
       "      <th>5615</th>\n",
       "      <td>https://ria.ru/20230621/astra-1879477107.html ...</td>\n",
       "      <td>Astra Linux, ОС</td>\n",
       "      <td>ОС</td>\n",
       "      <td>Африка, Ближний Восток, Индия, российские, рос...</td>\n",
       "      <td>Индия, Африка, Ближний Восток, Латинская Амери...</td>\n",
       "      <td>2023</td>\n",
       "      <td>https://ria.ru/20230621/astra-1879477107.html</td>\n",
       "      <td>ГК \"Астра\" рассчитывает, что к 2026-2027 годам...</td>\n",
       "      <td>ru</td>\n",
       "      <td>['https', ':', '/', '/', 'ria', '.', 'ru', '/'...</td>\n",
       "      <td>...</td>\n",
       "      <td>46</td>\n",
       "      <td>2</td>\n",
       "      <td>5</td>\n",
       "      <td>7</td>\n",
       "      <td>5</td>\n",
       "      <td>2</td>\n",
       "      <td>5</td>\n",
       "      <td>0.702315</td>\n",
       "      <td>0.561557</td>\n",
       "      <td>0.624098</td>\n",
       "    </tr>\n",
       "    <tr>\n",
       "      <th>7852</th>\n",
       "      <td>https://ria.ru/20230904/tovary-1894117793.html...</td>\n",
       "      <td>компьютерные, электронные компоненты</td>\n",
       "      <td>CLASSIFIED_BY_TEXT, компьютерные</td>\n",
       "      <td>Британия, Вашингтон, европейские, Запад, Москв...</td>\n",
       "      <td>ОАЭ, США, Великобритания, ЕС, Россия, Турция, ...</td>\n",
       "      <td>2023</td>\n",
       "      <td>https://ria.ru/20230904/tovary-1894117793.html</td>\n",
       "      <td>США, Великобритания и ЕС будут оказывать давле...</td>\n",
       "      <td>ru</td>\n",
       "      <td>['https', ':', '/', '/', 'ria', '.', 'ru', '/'...</td>\n",
       "      <td>...</td>\n",
       "      <td>56</td>\n",
       "      <td>2</td>\n",
       "      <td>7</td>\n",
       "      <td>9</td>\n",
       "      <td>11</td>\n",
       "      <td>1</td>\n",
       "      <td>6</td>\n",
       "      <td>0.716338</td>\n",
       "      <td>0.569076</td>\n",
       "      <td>0.634271</td>\n",
       "    </tr>\n",
       "    <tr>\n",
       "      <th>13740</th>\n",
       "      <td>La Commission verse des préfinancements REPowe...</td>\n",
       "      <td>analytics software, Atlantic salmon, combustib...</td>\n",
       "      <td>analytics software, Atlantic salmon, electrici...</td>\n",
       "      <td>Australia, Belgique, Chypre, Croatie, 'espagne...</td>\n",
       "      <td>ЕС, Испания, Великобритания</td>\n",
       "      <td>2024</td>\n",
       "      <td>https://ec.europa.eu/commission/presscorner/de...</td>\n",
       "      <td>The European Commission has opened an in-depth...</td>\n",
       "      <td>en</td>\n",
       "      <td>['la', 'commission', 'verse', 'des', 'préfinan...</td>\n",
       "      <td>...</td>\n",
       "      <td>54</td>\n",
       "      <td>9</td>\n",
       "      <td>3</td>\n",
       "      <td>12</td>\n",
       "      <td>31</td>\n",
       "      <td>0</td>\n",
       "      <td>4</td>\n",
       "      <td>0.610305</td>\n",
       "      <td>0.552701</td>\n",
       "      <td>0.580077</td>\n",
       "    </tr>\n",
       "    <tr>\n",
       "      <th>14393</th>\n",
       "      <td>Германия достигла предела в производстве и пос...</td>\n",
       "      <td>боеприпасы</td>\n",
       "      <td>боеприпасы</td>\n",
       "      <td>Великобритания, Германии,, Германия, германска...</td>\n",
       "      <td>Германия, Украина, Литва</td>\n",
       "      <td>2024</td>\n",
       "      <td>https://rossaprimavera.ru/news/6fd65975</td>\n",
       "      <td>Новый пакет военной помощи пообещала предостав...</td>\n",
       "      <td>ru</td>\n",
       "      <td>['германия', 'достигла', 'предела', 'в', 'прои...</td>\n",
       "      <td>...</td>\n",
       "      <td>68</td>\n",
       "      <td>1</td>\n",
       "      <td>3</td>\n",
       "      <td>4</td>\n",
       "      <td>6</td>\n",
       "      <td>0</td>\n",
       "      <td>2</td>\n",
       "      <td>0.642960</td>\n",
       "      <td>0.566891</td>\n",
       "      <td>0.602535</td>\n",
       "    </tr>\n",
       "    <tr>\n",
       "      <th>16655</th>\n",
       "      <td>По словам Ахмеда Абу аль-Гейта, Запад оказывае...</td>\n",
       "      <td>Статья Pro</td>\n",
       "      <td>NaN</td>\n",
       "      <td>арабские, Бахрейн, Египет, Запад, Лига, Марокк...</td>\n",
       "      <td>Беларусь, Иран, Казахстан, Китай, Европа и Сев...</td>\n",
       "      <td>2022</td>\n",
       "      <td>https://www.rbc.ru/politics/13/06/2022/62a6c85...</td>\n",
       "      <td>Трасса «Меридиан» компании «Автодор», которая ...</td>\n",
       "      <td>ru</td>\n",
       "      <td>['по', 'словам', 'ахмеда', 'абу', 'аль-гейта',...</td>\n",
       "      <td>...</td>\n",
       "      <td>51</td>\n",
       "      <td>1</td>\n",
       "      <td>6</td>\n",
       "      <td>7</td>\n",
       "      <td>12</td>\n",
       "      <td>0</td>\n",
       "      <td>0</td>\n",
       "      <td>0.621716</td>\n",
       "      <td>0.567890</td>\n",
       "      <td>0.593585</td>\n",
       "    </tr>\n",
       "    <tr>\n",
       "      <th>22138</th>\n",
       "      <td>Дефицит внешнеторгового баланса в Молдове к ма...</td>\n",
       "      <td>автомобили, Машина, мотоциклы, сальдо, черешня</td>\n",
       "      <td>NaN</td>\n",
       "      <td>Беларусь, Европа, европейские, Иран, Краснодар...</td>\n",
       "      <td>Молдавия, Азия, Африка, Ближний Восток, Европа...</td>\n",
       "      <td>2022</td>\n",
       "      <td>https://mda.minpromtorg.gov.ru/news/?alias=day...</td>\n",
       "      <td>Миссия Международного валютного фонда (МВФ) во...</td>\n",
       "      <td>ru</td>\n",
       "      <td>['дефицит', 'внешнеторгового', 'баланса', 'в',...</td>\n",
       "      <td>...</td>\n",
       "      <td>52</td>\n",
       "      <td>5</td>\n",
       "      <td>8</td>\n",
       "      <td>13</td>\n",
       "      <td>15</td>\n",
       "      <td>0</td>\n",
       "      <td>0</td>\n",
       "      <td>0.632604</td>\n",
       "      <td>0.551106</td>\n",
       "      <td>0.589049</td>\n",
       "    </tr>\n",
       "    <tr>\n",
       "      <th>22259</th>\n",
       "      <td>Новости Правительства 14–15 июня делегация фин...</td>\n",
       "      <td>Ald, A. R. A. Almirante Irízar, Ford Fiesta, S...</td>\n",
       "      <td>NaN</td>\n",
       "      <td>Азия, Американская, Аргентина, аргентинская, Б...</td>\n",
       "      <td>Бельгия, Финляндия</td>\n",
       "      <td>2022</td>\n",
       "      <td>https://fin.minpromtorg.gov.ru/news/?alias=obz...</td>\n",
       "      <td>Финская фармацевтическая компания Orion заключ...</td>\n",
       "      <td>ru</td>\n",
       "      <td>['новости', 'правительства', '14–15', 'июня', ...</td>\n",
       "      <td>...</td>\n",
       "      <td>45</td>\n",
       "      <td>26</td>\n",
       "      <td>2</td>\n",
       "      <td>28</td>\n",
       "      <td>25</td>\n",
       "      <td>2</td>\n",
       "      <td>2</td>\n",
       "      <td>0.622269</td>\n",
       "      <td>0.568596</td>\n",
       "      <td>0.594223</td>\n",
       "    </tr>\n",
       "    <tr>\n",
       "      <th>24366</th>\n",
       "      <td>https://ria.ru/20220906/sotrudnichestvo-181471...</td>\n",
       "      <td>газ, нефть, природное газа</td>\n",
       "      <td>NaN</td>\n",
       "      <td>Азиатско-тихоокеанский регион, Запад, китай, К...</td>\n",
       "      <td>Китай, Россия</td>\n",
       "      <td>2022</td>\n",
       "      <td>https://ria.ru/20220906/sotrudnichestvo-181471...</td>\n",
       "      <td>За первые 7 месяцев 2022 года объем китайско-р...</td>\n",
       "      <td>ru</td>\n",
       "      <td>['https', ':', '/', '/', 'ria', '.', 'ru', '/'...</td>\n",
       "      <td>...</td>\n",
       "      <td>78</td>\n",
       "      <td>3</td>\n",
       "      <td>2</td>\n",
       "      <td>5</td>\n",
       "      <td>12</td>\n",
       "      <td>3</td>\n",
       "      <td>3</td>\n",
       "      <td>0.611222</td>\n",
       "      <td>0.539601</td>\n",
       "      <td>0.573183</td>\n",
       "    </tr>\n",
       "    <tr>\n",
       "      <th>24682</th>\n",
       "      <td>https://ria.ru/20220920/tanki-1818106997.html ...</td>\n",
       "      <td>оружие, танки</td>\n",
       "      <td>NaN</td>\n",
       "      <td>Запад, Киев, Россия, советские, США, украина, ...</td>\n",
       "      <td>Германия, США, Украина</td>\n",
       "      <td>2022</td>\n",
       "      <td>https://ria.ru/20220920/tanki-1818106997.html</td>\n",
       "      <td>США могут начать поставки Украине современных ...</td>\n",
       "      <td>ru</td>\n",
       "      <td>['https', ':', '/', '/', 'ria', '.', 'ru', '/'...</td>\n",
       "      <td>...</td>\n",
       "      <td>54</td>\n",
       "      <td>2</td>\n",
       "      <td>3</td>\n",
       "      <td>5</td>\n",
       "      <td>6</td>\n",
       "      <td>2</td>\n",
       "      <td>2</td>\n",
       "      <td>0.684274</td>\n",
       "      <td>0.555834</td>\n",
       "      <td>0.613403</td>\n",
       "    </tr>\n",
       "    <tr>\n",
       "      <th>25107</th>\n",
       "      <td>https://ria.ru/20220928/neft-1820154327.html Е...</td>\n",
       "      <td>нефть, продукты питание, топливо, электроэнергия</td>\n",
       "      <td>NaN</td>\n",
       "      <td>Венгрия, ДНР, Европа, Запад, российская, Росси...</td>\n",
       "      <td>Венгрия, США, Украина</td>\n",
       "      <td>2022</td>\n",
       "      <td>https://ria.ru/20220928/neft-1820154327.html</td>\n",
       "      <td>СМИ: ЕС хочет запретить импорт из России некот...</td>\n",
       "      <td>ru</td>\n",
       "      <td>['https', ':', '/', '/', 'ria', '.', 'ru', '/'...</td>\n",
       "      <td>...</td>\n",
       "      <td>80</td>\n",
       "      <td>4</td>\n",
       "      <td>3</td>\n",
       "      <td>7</td>\n",
       "      <td>9</td>\n",
       "      <td>3</td>\n",
       "      <td>7</td>\n",
       "      <td>0.646354</td>\n",
       "      <td>0.551014</td>\n",
       "      <td>0.594888</td>\n",
       "    </tr>\n",
       "    <tr>\n",
       "      <th>25166</th>\n",
       "      <td>https://ria.ru/20221002/sanktsii-1821030751.ht...</td>\n",
       "      <td>продукты питание, топливо</td>\n",
       "      <td>NaN</td>\n",
       "      <td>Запад, народная, российские, россия, Россия, Р...</td>\n",
       "      <td>Венгрия, Европа и Северная Америка, США, Серби...</td>\n",
       "      <td>2022</td>\n",
       "      <td>https://ria.ru/20221002/sanktsii-1821030751.html</td>\n",
       "      <td>Страны ЕС договорились по новым санкциям проти...</td>\n",
       "      <td>ru</td>\n",
       "      <td>['https', ':', '/', '/', 'ria', '.', 'ru', '/'...</td>\n",
       "      <td>...</td>\n",
       "      <td>64</td>\n",
       "      <td>2</td>\n",
       "      <td>5</td>\n",
       "      <td>7</td>\n",
       "      <td>7</td>\n",
       "      <td>0</td>\n",
       "      <td>2</td>\n",
       "      <td>0.691557</td>\n",
       "      <td>0.553489</td>\n",
       "      <td>0.614867</td>\n",
       "    </tr>\n",
       "    <tr>\n",
       "      <th>25733</th>\n",
       "      <td>Enel продает долю Enel Россия Газпрому и Лукой...</td>\n",
       "      <td>PEM, бензин, бытовой техника, водород, газ, Га...</td>\n",
       "      <td>NaN</td>\n",
       "      <td>Германия, Голландия, Европа, ЕС, Италия, италь...</td>\n",
       "      <td>Италия, ЕС</td>\n",
       "      <td>2022</td>\n",
       "      <td>https://ita.minpromtorg.gov.ru/news/?alias=obz...</td>\n",
       "      <td>Enel Green Power и Eni входят в число итальянс...</td>\n",
       "      <td>ru</td>\n",
       "      <td>['enel', 'продает', 'долю', 'enel', 'россия', ...</td>\n",
       "      <td>...</td>\n",
       "      <td>55</td>\n",
       "      <td>19</td>\n",
       "      <td>2</td>\n",
       "      <td>21</td>\n",
       "      <td>9</td>\n",
       "      <td>1</td>\n",
       "      <td>2</td>\n",
       "      <td>0.610969</td>\n",
       "      <td>0.545279</td>\n",
       "      <td>0.576258</td>\n",
       "    </tr>\n",
       "  </tbody>\n",
       "</table>\n",
       "<p>15 rows × 29 columns</p>\n",
       "</div>"
      ],
      "text/plain": [
       "                                                    text  \\\n",
       "411    https://ria.ru/20221128/lukashenko-1834694302....   \n",
       "4726   One year of Russia’s war in Ukraine Portraits ...   \n",
       "5033   https://ria.ru/20230526/sanktsii-1874238714.ht...   \n",
       "5615   https://ria.ru/20230621/astra-1879477107.html ...   \n",
       "7852   https://ria.ru/20230904/tovary-1894117793.html...   \n",
       "13740  La Commission verse des préfinancements REPowe...   \n",
       "14393  Германия достигла предела в производстве и пос...   \n",
       "16655  По словам Ахмеда Абу аль-Гейта, Запад оказывае...   \n",
       "22138  Дефицит внешнеторгового баланса в Молдове к ма...   \n",
       "22259  Новости Правительства 14–15 июня делегация фин...   \n",
       "24366  https://ria.ru/20220906/sotrudnichestvo-181471...   \n",
       "24682  https://ria.ru/20220920/tanki-1818106997.html ...   \n",
       "25107  https://ria.ru/20220928/neft-1820154327.html Е...   \n",
       "25166  https://ria.ru/20221002/sanktsii-1821030751.ht...   \n",
       "25733  Enel продает долю Enel Россия Газпрому и Лукой...   \n",
       "\n",
       "                                             raw_product  \\\n",
       "411                            продукты питание, техника   \n",
       "4726                                            gas, oil   \n",
       "5033   3D, водка, древесина, золото, квантовые компью...   \n",
       "5615                                     Astra Linux, ОС   \n",
       "7852                компьютерные, электронные компоненты   \n",
       "13740  analytics software, Atlantic salmon, combustib...   \n",
       "14393                                         боеприпасы   \n",
       "16655                                         Статья Pro   \n",
       "22138     автомобили, Машина, мотоциклы, сальдо, черешня   \n",
       "22259  Ald, A. R. A. Almirante Irízar, Ford Fiesta, S...   \n",
       "24366                         газ, нефть, природное газа   \n",
       "24682                                      оружие, танки   \n",
       "25107   нефть, продукты питание, топливо, электроэнергия   \n",
       "25166                          продукты питание, топливо   \n",
       "25733  PEM, бензин, бытовой техника, водород, газ, Га...   \n",
       "\n",
       "                                                 product  \\\n",
       "411                            продукты питание, техника   \n",
       "4726                                                 oil   \n",
       "5033   водка, древесина, золото, квантовые компьютеры...   \n",
       "5615                                                  ОС   \n",
       "7852                    CLASSIFIED_BY_TEXT, компьютерные   \n",
       "13740  analytics software, Atlantic salmon, electrici...   \n",
       "14393                                         боеприпасы   \n",
       "16655                                                NaN   \n",
       "22138                                                NaN   \n",
       "22259                                                NaN   \n",
       "24366                                                NaN   \n",
       "24682                                                NaN   \n",
       "25107                                                NaN   \n",
       "25166                                                NaN   \n",
       "25733                                                NaN   \n",
       "\n",
       "                                           raw_locations  \\\n",
       "411    Беларусь, белоруссия, Белоруссия, белорусская,...   \n",
       "4726        Russia, Russian, Ukraine, Ukrainian, Western   \n",
       "5033   Запад, Киев, российские, россия, Россия, РФ, С...   \n",
       "5615   Африка, Ближний Восток, Индия, российские, рос...   \n",
       "7852   Британия, Вашингтон, европейские, Запад, Москв...   \n",
       "13740  Australia, Belgique, Chypre, Croatie, 'espagne...   \n",
       "14393  Великобритания, Германии,, Германия, германска...   \n",
       "16655  арабские, Бахрейн, Египет, Запад, Лига, Марокк...   \n",
       "22138  Беларусь, Европа, европейские, Иран, Краснодар...   \n",
       "22259  Азия, Американская, Аргентина, аргентинская, Б...   \n",
       "24366  Азиатско-тихоокеанский регион, Запад, китай, К...   \n",
       "24682  Запад, Киев, Россия, советские, США, украина, ...   \n",
       "25107  Венгрия, ДНР, Европа, Запад, российская, Росси...   \n",
       "25166  Запад, народная, российские, россия, Россия, Р...   \n",
       "25733  Германия, Голландия, Европа, ЕС, Италия, италь...   \n",
       "\n",
       "                                               locations  news_date  \\\n",
       "411                                     Беларусь, Россия       2022   \n",
       "4726                             Уганда, Китай, Танзания       2023   \n",
       "5033                                      Япония, Россия       2023   \n",
       "5615   Индия, Африка, Ближний Восток, Латинская Амери...       2023   \n",
       "7852   ОАЭ, США, Великобритания, ЕС, Россия, Турция, ...       2023   \n",
       "13740                        ЕС, Испания, Великобритания       2024   \n",
       "14393                           Германия, Украина, Литва       2024   \n",
       "16655  Беларусь, Иран, Казахстан, Китай, Европа и Сев...       2022   \n",
       "22138  Молдавия, Азия, Африка, Ближний Восток, Европа...       2022   \n",
       "22259                                 Бельгия, Финляндия       2022   \n",
       "24366                                      Китай, Россия       2022   \n",
       "24682                             Германия, США, Украина       2022   \n",
       "25107                              Венгрия, США, Украина       2022   \n",
       "25166  Венгрия, Европа и Северная Америка, США, Серби...       2022   \n",
       "25733                                         Италия, ЕС       2022   \n",
       "\n",
       "                                                     url  \\\n",
       "411    https://ria.ru/20221128/lukashenko-1834694302....   \n",
       "4726   https://www.washingtonpost.com/world/2023/05/1...   \n",
       "5033    https://ria.ru/20230526/sanktsii-1874238714.html   \n",
       "5615       https://ria.ru/20230621/astra-1879477107.html   \n",
       "7852      https://ria.ru/20230904/tovary-1894117793.html   \n",
       "13740  https://ec.europa.eu/commission/presscorner/de...   \n",
       "14393            https://rossaprimavera.ru/news/6fd65975   \n",
       "16655  https://www.rbc.ru/politics/13/06/2022/62a6c85...   \n",
       "22138  https://mda.minpromtorg.gov.ru/news/?alias=day...   \n",
       "22259  https://fin.minpromtorg.gov.ru/news/?alias=obz...   \n",
       "24366  https://ria.ru/20220906/sotrudnichestvo-181471...   \n",
       "24682      https://ria.ru/20220920/tanki-1818106997.html   \n",
       "25107       https://ria.ru/20220928/neft-1820154327.html   \n",
       "25166   https://ria.ru/20221002/sanktsii-1821030751.html   \n",
       "25733  https://ita.minpromtorg.gov.ru/news/?alias=obz...   \n",
       "\n",
       "                                                 summary lang  \\\n",
       "411    Президент Белоруссии Александр Лукашенко собир...   ru   \n",
       "4726   Uganda's Ministry of Energy said that major Ch...   en   \n",
       "5033   Япония ввела новый пакет санкций против прокур...   ru   \n",
       "5615   ГК \"Астра\" рассчитывает, что к 2026-2027 годам...   ru   \n",
       "7852   США, Великобритания и ЕС будут оказывать давле...   ru   \n",
       "13740  The European Commission has opened an in-depth...   en   \n",
       "14393  Новый пакет военной помощи пообещала предостав...   ru   \n",
       "16655  Трасса «Меридиан» компании «Автодор», которая ...   ru   \n",
       "22138  Миссия Международного валютного фонда (МВФ) во...   ru   \n",
       "22259  Финская фармацевтическая компания Orion заключ...   ru   \n",
       "24366  За первые 7 месяцев 2022 года объем китайско-р...   ru   \n",
       "24682  США могут начать поставки Украине современных ...   ru   \n",
       "25107  СМИ: ЕС хочет запретить импорт из России некот...   ru   \n",
       "25166  Страны ЕС договорились по новым санкциям проти...   ru   \n",
       "25733  Enel Green Power и Eni входят в число итальянс...   ru   \n",
       "\n",
       "                                              text_words  ...  \\\n",
       "411    ['https', ':', '/', '/', 'ria', '.', 'ru', '/'...  ...   \n",
       "4726   ['one', 'year', 'of', 'russia', '’', 's', 'war...  ...   \n",
       "5033   ['https', ':', '/', '/', 'ria', '.', 'ru', '/'...  ...   \n",
       "5615   ['https', ':', '/', '/', 'ria', '.', 'ru', '/'...  ...   \n",
       "7852   ['https', ':', '/', '/', 'ria', '.', 'ru', '/'...  ...   \n",
       "13740  ['la', 'commission', 'verse', 'des', 'préfinan...  ...   \n",
       "14393  ['германия', 'достигла', 'предела', 'в', 'прои...  ...   \n",
       "16655  ['по', 'словам', 'ахмеда', 'абу', 'аль-гейта',...  ...   \n",
       "22138  ['дефицит', 'внешнеторгового', 'баланса', 'в',...  ...   \n",
       "22259  ['новости', 'правительства', '14–15', 'июня', ...  ...   \n",
       "24366  ['https', ':', '/', '/', 'ria', '.', 'ru', '/'...  ...   \n",
       "24682  ['https', ':', '/', '/', 'ria', '.', 'ru', '/'...  ...   \n",
       "25107  ['https', ':', '/', '/', 'ria', '.', 'ru', '/'...  ...   \n",
       "25166  ['https', ':', '/', '/', 'ria', '.', 'ru', '/'...  ...   \n",
       "25733  ['enel', 'продает', 'долю', 'enel', 'россия', ...  ...   \n",
       "\n",
       "      summary_unique_len prod_num locs_num prod_locs_num raw_locs_num  \\\n",
       "411                   46        2        2             4            7   \n",
       "4726                  43        2        3             5            5   \n",
       "5033                  50       13        2            15            8   \n",
       "5615                  46        2        5             7            5   \n",
       "7852                  56        2        7             9           11   \n",
       "13740                 54        9        3            12           31   \n",
       "14393                 68        1        3             4            6   \n",
       "16655                 51        1        6             7           12   \n",
       "22138                 52        5        8            13           15   \n",
       "22259                 45       26        2            28           25   \n",
       "24366                 78        3        2             5           12   \n",
       "24682                 54        2        3             5            6   \n",
       "25107                 80        4        3             7            9   \n",
       "25166                 64        2        5             7            7   \n",
       "25733                 55       19        2            21            9   \n",
       "\n",
       "       prod_match  locs_match  precision_score  recall_score  f1_score  \n",
       "411             0           2         0.695524      0.569651  0.626326  \n",
       "4726            1           0         0.628879      0.568345  0.597082  \n",
       "5033            0           2         0.701643      0.567723  0.627619  \n",
       "5615            2           5         0.702315      0.561557  0.624098  \n",
       "7852            1           6         0.716338      0.569076  0.634271  \n",
       "13740           0           4         0.610305      0.552701  0.580077  \n",
       "14393           0           2         0.642960      0.566891  0.602535  \n",
       "16655           0           0         0.621716      0.567890  0.593585  \n",
       "22138           0           0         0.632604      0.551106  0.589049  \n",
       "22259           2           2         0.622269      0.568596  0.594223  \n",
       "24366           3           3         0.611222      0.539601  0.573183  \n",
       "24682           2           2         0.684274      0.555834  0.613403  \n",
       "25107           3           7         0.646354      0.551014  0.594888  \n",
       "25166           0           2         0.691557      0.553489  0.614867  \n",
       "25733           1           2         0.610969      0.545279  0.576258  \n",
       "\n",
       "[15 rows x 29 columns]"
      ]
     },
     "execution_count": 43,
     "metadata": {},
     "output_type": "execute_result"
    }
   ],
   "source": [
    "rec_57[(rec_25['summary_len'] > 50)]"
   ]
  },
  {
   "cell_type": "markdown",
   "metadata": {},
   "source": [
    "В длинный предложения с низкой полнотой попали в основном русские тексты. Вероятно, это может быть связано с тем, что английский менее многословный язык. Длины предложений в английском и русском отличаются.\n",
    "\n",
    "Проверим это, также посмотрим длины саммари по языкам"
   ]
  },
  {
   "cell_type": "code",
   "execution_count": 46,
   "metadata": {},
   "outputs": [
    {
     "data": {
      "text/plain": [
       "lang\n",
       "ru    0.725939\n",
       "en    0.274061\n",
       "Name: proportion, dtype: float64"
      ]
     },
     "execution_count": 46,
     "metadata": {},
     "output_type": "execute_result"
    }
   ],
   "source": [
    "df.lang.value_counts(normalize=True)"
   ]
  },
  {
   "cell_type": "code",
   "execution_count": 47,
   "metadata": {},
   "outputs": [
    {
     "data": {
      "text/plain": [
       "lang\n",
       "ru    0.760064\n",
       "en    0.239936\n",
       "Name: proportion, dtype: float64"
      ]
     },
     "execution_count": 47,
     "metadata": {},
     "output_type": "execute_result"
    }
   ],
   "source": [
    "rec_57.lang.value_counts(normalize=True)"
   ]
  },
  {
   "cell_type": "markdown",
   "metadata": {},
   "source": [
    "Соотношение языков в этой части "
   ]
  },
  {
   "cell_type": "code",
   "execution_count": 54,
   "metadata": {},
   "outputs": [],
   "source": [
    "from scipy import stats"
   ]
  },
  {
   "cell_type": "code",
   "execution_count": 53,
   "metadata": {},
   "outputs": [
    {
     "data": {
      "text/plain": [
       "array([0.72593886, 0.27406114])"
      ]
     },
     "execution_count": 53,
     "metadata": {},
     "output_type": "execute_result"
    }
   ],
   "source": [
    "df.lang.value_counts(normalize=True).values"
   ]
  },
  {
   "cell_type": "code",
   "execution_count": 59,
   "metadata": {},
   "outputs": [],
   "source": [
    "full = df.lang.value_counts(normalize=True).values\n",
    "lang57 = rec_57.lang.value_counts(normalize=True).values"
   ]
  },
  {
   "cell_type": "code",
   "execution_count": 61,
   "metadata": {},
   "outputs": [
    {
     "data": {
      "text/plain": [
       "TtestResult(statistic=1.6266739895886744e-15, pvalue=0.9999999999999989, df=1)"
      ]
     },
     "execution_count": 61,
     "metadata": {},
     "output_type": "execute_result"
    }
   ],
   "source": [
    "stats.ttest_rel(lang57, full)"
   ]
  },
  {
   "cell_type": "markdown",
   "metadata": {},
   "source": [
    "p-value больше  0.05, т.о. язык не влияет на полноту.\n",
    "\n",
    "Проверим аналогично количество продуктов и локаций для языка в этой части данных."
   ]
  },
  {
   "cell_type": "code",
   "execution_count": 67,
   "metadata": {},
   "outputs": [
    {
     "data": {
      "text/plain": [
       "array([5.42477636, 3.19357315])"
      ]
     },
     "execution_count": 67,
     "metadata": {},
     "output_type": "execute_result"
    }
   ],
   "source": [
    "df.groupby(\"lang\").agg({\"prod_num\": \"mean\"})[\"prod_num\"].values"
   ]
  },
  {
   "cell_type": "code",
   "execution_count": 69,
   "metadata": {},
   "outputs": [],
   "source": [
    "full_prod = df.groupby(\"lang\").agg({\"prod_num\": \"mean\"})[\"prod_num\"].values\n",
    "lang57_prod = rec_57.groupby(\"lang\").agg({\"prod_num\": \"mean\"})[\"prod_num\"].values\n",
    "full_locs = df.groupby(\"lang\").agg({\"locs_num\": \"mean\"})[\"locs_num\"].values\n",
    "lang57_locs = rec_57.groupby(\"lang\").agg({\"locs_num\": \"mean\"})[\"locs_num\"].values\n",
    "full_raw_locs_num = df.groupby(\"lang\").agg({\"raw_locs_num\": \"mean\"})[\"raw_locs_num\"].values\n",
    "lang57_raw_locs_num = rec_57.groupby(\"lang\").agg({\"raw_locs_num\": \"mean\"})[\"raw_locs_num\"].values"
   ]
  },
  {
   "cell_type": "code",
   "execution_count": 70,
   "metadata": {},
   "outputs": [
    {
     "data": {
      "text/plain": [
       "TtestResult(statistic=-1.6982404591813118, pvalue=0.3387942347143203, df=1)"
      ]
     },
     "execution_count": 70,
     "metadata": {},
     "output_type": "execute_result"
    }
   ],
   "source": [
    "stats.ttest_rel(full_prod, lang57_prod)"
   ]
  },
  {
   "cell_type": "code",
   "execution_count": 72,
   "metadata": {},
   "outputs": [
    {
     "data": {
      "text/plain": [
       "TtestResult(statistic=5.611509545912636, pvalue=0.11227037400273392, df=1)"
      ]
     },
     "execution_count": 72,
     "metadata": {},
     "output_type": "execute_result"
    }
   ],
   "source": [
    "stats.ttest_rel(full_locs, lang57_locs)"
   ]
  },
  {
   "cell_type": "code",
   "execution_count": 71,
   "metadata": {},
   "outputs": [
    {
     "data": {
      "text/plain": [
       "TtestResult(statistic=-0.5286448612611307, pvalue=0.6904117868157564, df=1)"
      ]
     },
     "execution_count": 71,
     "metadata": {},
     "output_type": "execute_result"
    }
   ],
   "source": [
    "stats.ttest_rel(full_raw_locs_num, lang57_raw_locs_num)"
   ]
  },
  {
   "cell_type": "markdown",
   "metadata": {},
   "source": [
    "Статистическая знаимость для разных языков в группировке по продуктам и локациям не обнаружена"
   ]
  },
  {
   "cell_type": "markdown",
   "metadata": {},
   "source": [
    "Посмотрим новости, лежащие выше 75 перцентиля полноты. Возможно, тут обнаружится какая-то зависимость от сущностей или от длины саммари."
   ]
  },
  {
   "cell_type": "code",
   "execution_count": 75,
   "metadata": {},
   "outputs": [
    {
     "data": {
      "text/plain": [
       "(6730, 29)"
      ]
     },
     "execution_count": 75,
     "metadata": {},
     "output_type": "execute_result"
    }
   ],
   "source": [
    "rec_75 = df[df[\"recall_score\"] > df[\"recall_score\"].quantile(0.75)]\n",
    "rec_75.shape"
   ]
  },
  {
   "cell_type": "code",
   "execution_count": 76,
   "metadata": {},
   "outputs": [
    {
     "data": {
      "text/plain": [
       "0.7264424562454224"
      ]
     },
     "execution_count": 76,
     "metadata": {},
     "output_type": "execute_result"
    }
   ],
   "source": [
    "df[\"recall_score\"].quantile(0.75)"
   ]
  },
  {
   "cell_type": "code",
   "execution_count": 78,
   "metadata": {},
   "outputs": [
    {
     "data": {
      "text/html": [
       "<div>\n",
       "<style scoped>\n",
       "    .dataframe tbody tr th:only-of-type {\n",
       "        vertical-align: middle;\n",
       "    }\n",
       "\n",
       "    .dataframe tbody tr th {\n",
       "        vertical-align: top;\n",
       "    }\n",
       "\n",
       "    .dataframe thead th {\n",
       "        text-align: right;\n",
       "    }\n",
       "</style>\n",
       "<table border=\"1\" class=\"dataframe\">\n",
       "  <thead>\n",
       "    <tr style=\"text-align: right;\">\n",
       "      <th></th>\n",
       "      <th>news_date</th>\n",
       "      <th>num_summary_sents</th>\n",
       "      <th>text_len</th>\n",
       "      <th>summary_len</th>\n",
       "      <th>text_unique_len</th>\n",
       "      <th>summary_unique_len</th>\n",
       "      <th>prod_num</th>\n",
       "      <th>locs_num</th>\n",
       "      <th>prod_locs_num</th>\n",
       "      <th>raw_locs_num</th>\n",
       "      <th>prod_match</th>\n",
       "      <th>locs_match</th>\n",
       "      <th>precision_score</th>\n",
       "      <th>recall_score</th>\n",
       "      <th>f1_score</th>\n",
       "    </tr>\n",
       "  </thead>\n",
       "  <tbody>\n",
       "    <tr>\n",
       "      <th>count</th>\n",
       "      <td>6730.000000</td>\n",
       "      <td>6730.00000</td>\n",
       "      <td>6730.000000</td>\n",
       "      <td>6730.000000</td>\n",
       "      <td>6730.000000</td>\n",
       "      <td>6730.000000</td>\n",
       "      <td>6730.000000</td>\n",
       "      <td>6730.000000</td>\n",
       "      <td>6730.00000</td>\n",
       "      <td>6730.000000</td>\n",
       "      <td>6730.000000</td>\n",
       "      <td>6730.000000</td>\n",
       "      <td>6730.000000</td>\n",
       "      <td>6730.000000</td>\n",
       "      <td>6730.000000</td>\n",
       "    </tr>\n",
       "    <tr>\n",
       "      <th>mean</th>\n",
       "      <td>2022.872214</td>\n",
       "      <td>4.30000</td>\n",
       "      <td>233.347103</td>\n",
       "      <td>102.603120</td>\n",
       "      <td>132.947400</td>\n",
       "      <td>67.357504</td>\n",
       "      <td>3.474443</td>\n",
       "      <td>3.613967</td>\n",
       "      <td>7.08841</td>\n",
       "      <td>5.472214</td>\n",
       "      <td>2.381575</td>\n",
       "      <td>3.974889</td>\n",
       "      <td>0.906647</td>\n",
       "      <td>0.798009</td>\n",
       "      <td>0.848100</td>\n",
       "    </tr>\n",
       "    <tr>\n",
       "      <th>std</th>\n",
       "      <td>0.723068</td>\n",
       "      <td>2.28746</td>\n",
       "      <td>189.877806</td>\n",
       "      <td>51.154458</td>\n",
       "      <td>81.011975</td>\n",
       "      <td>24.334751</td>\n",
       "      <td>3.619479</td>\n",
       "      <td>3.062753</td>\n",
       "      <td>4.89331</td>\n",
       "      <td>4.074746</td>\n",
       "      <td>2.579286</td>\n",
       "      <td>3.074271</td>\n",
       "      <td>0.038739</td>\n",
       "      <td>0.064137</td>\n",
       "      <td>0.048812</td>\n",
       "    </tr>\n",
       "    <tr>\n",
       "      <th>min</th>\n",
       "      <td>2020.000000</td>\n",
       "      <td>1.00000</td>\n",
       "      <td>10.000000</td>\n",
       "      <td>11.000000</td>\n",
       "      <td>10.000000</td>\n",
       "      <td>11.000000</td>\n",
       "      <td>1.000000</td>\n",
       "      <td>1.000000</td>\n",
       "      <td>2.00000</td>\n",
       "      <td>1.000000</td>\n",
       "      <td>0.000000</td>\n",
       "      <td>0.000000</td>\n",
       "      <td>0.622279</td>\n",
       "      <td>0.726466</td>\n",
       "      <td>0.675278</td>\n",
       "    </tr>\n",
       "    <tr>\n",
       "      <th>25%</th>\n",
       "      <td>2022.000000</td>\n",
       "      <td>3.00000</td>\n",
       "      <td>135.000000</td>\n",
       "      <td>67.000000</td>\n",
       "      <td>87.000000</td>\n",
       "      <td>50.000000</td>\n",
       "      <td>1.000000</td>\n",
       "      <td>2.000000</td>\n",
       "      <td>4.00000</td>\n",
       "      <td>3.000000</td>\n",
       "      <td>1.000000</td>\n",
       "      <td>2.000000</td>\n",
       "      <td>0.882565</td>\n",
       "      <td>0.748305</td>\n",
       "      <td>0.813236</td>\n",
       "    </tr>\n",
       "    <tr>\n",
       "      <th>50%</th>\n",
       "      <td>2023.000000</td>\n",
       "      <td>4.00000</td>\n",
       "      <td>188.000000</td>\n",
       "      <td>93.000000</td>\n",
       "      <td>115.000000</td>\n",
       "      <td>64.000000</td>\n",
       "      <td>2.000000</td>\n",
       "      <td>2.000000</td>\n",
       "      <td>6.00000</td>\n",
       "      <td>5.000000</td>\n",
       "      <td>2.000000</td>\n",
       "      <td>3.000000</td>\n",
       "      <td>0.907127</td>\n",
       "      <td>0.777847</td>\n",
       "      <td>0.835307</td>\n",
       "    </tr>\n",
       "    <tr>\n",
       "      <th>75%</th>\n",
       "      <td>2023.000000</td>\n",
       "      <td>5.00000</td>\n",
       "      <td>268.000000</td>\n",
       "      <td>126.000000</td>\n",
       "      <td>152.000000</td>\n",
       "      <td>81.000000</td>\n",
       "      <td>4.000000</td>\n",
       "      <td>4.000000</td>\n",
       "      <td>9.00000</td>\n",
       "      <td>7.000000</td>\n",
       "      <td>3.000000</td>\n",
       "      <td>5.000000</td>\n",
       "      <td>0.930848</td>\n",
       "      <td>0.830147</td>\n",
       "      <td>0.872235</td>\n",
       "    </tr>\n",
       "    <tr>\n",
       "      <th>max</th>\n",
       "      <td>2024.000000</td>\n",
       "      <td>32.00000</td>\n",
       "      <td>3657.000000</td>\n",
       "      <td>517.000000</td>\n",
       "      <td>1488.000000</td>\n",
       "      <td>209.000000</td>\n",
       "      <td>100.000000</td>\n",
       "      <td>32.000000</td>\n",
       "      <td>102.00000</td>\n",
       "      <td>51.000000</td>\n",
       "      <td>26.000000</td>\n",
       "      <td>31.000000</td>\n",
       "      <td>1.000000</td>\n",
       "      <td>1.000000</td>\n",
       "      <td>1.000000</td>\n",
       "    </tr>\n",
       "  </tbody>\n",
       "</table>\n",
       "</div>"
      ],
      "text/plain": [
       "         news_date  num_summary_sents     text_len  summary_len  \\\n",
       "count  6730.000000         6730.00000  6730.000000  6730.000000   \n",
       "mean   2022.872214            4.30000   233.347103   102.603120   \n",
       "std       0.723068            2.28746   189.877806    51.154458   \n",
       "min    2020.000000            1.00000    10.000000    11.000000   \n",
       "25%    2022.000000            3.00000   135.000000    67.000000   \n",
       "50%    2023.000000            4.00000   188.000000    93.000000   \n",
       "75%    2023.000000            5.00000   268.000000   126.000000   \n",
       "max    2024.000000           32.00000  3657.000000   517.000000   \n",
       "\n",
       "       text_unique_len  summary_unique_len     prod_num     locs_num  \\\n",
       "count      6730.000000         6730.000000  6730.000000  6730.000000   \n",
       "mean        132.947400           67.357504     3.474443     3.613967   \n",
       "std          81.011975           24.334751     3.619479     3.062753   \n",
       "min          10.000000           11.000000     1.000000     1.000000   \n",
       "25%          87.000000           50.000000     1.000000     2.000000   \n",
       "50%         115.000000           64.000000     2.000000     2.000000   \n",
       "75%         152.000000           81.000000     4.000000     4.000000   \n",
       "max        1488.000000          209.000000   100.000000    32.000000   \n",
       "\n",
       "       prod_locs_num  raw_locs_num   prod_match   locs_match  precision_score  \\\n",
       "count     6730.00000   6730.000000  6730.000000  6730.000000      6730.000000   \n",
       "mean         7.08841      5.472214     2.381575     3.974889         0.906647   \n",
       "std          4.89331      4.074746     2.579286     3.074271         0.038739   \n",
       "min          2.00000      1.000000     0.000000     0.000000         0.622279   \n",
       "25%          4.00000      3.000000     1.000000     2.000000         0.882565   \n",
       "50%          6.00000      5.000000     2.000000     3.000000         0.907127   \n",
       "75%          9.00000      7.000000     3.000000     5.000000         0.930848   \n",
       "max        102.00000     51.000000    26.000000    31.000000         1.000000   \n",
       "\n",
       "       recall_score     f1_score  \n",
       "count   6730.000000  6730.000000  \n",
       "mean       0.798009     0.848100  \n",
       "std        0.064137     0.048812  \n",
       "min        0.726466     0.675278  \n",
       "25%        0.748305     0.813236  \n",
       "50%        0.777847     0.835307  \n",
       "75%        0.830147     0.872235  \n",
       "max        1.000000     1.000000  "
      ]
     },
     "execution_count": 78,
     "metadata": {},
     "output_type": "execute_result"
    }
   ],
   "source": [
    "rec_75.describe()"
   ]
  },
  {
   "cell_type": "code",
   "execution_count": 80,
   "metadata": {},
   "outputs": [
    {
     "data": {
      "text/plain": [
       "lang\n",
       "ru    0.725939\n",
       "en    0.274061\n",
       "Name: proportion, dtype: float64"
      ]
     },
     "execution_count": 80,
     "metadata": {},
     "output_type": "execute_result"
    }
   ],
   "source": [
    "df.lang.value_counts(normalize=True)"
   ]
  },
  {
   "cell_type": "code",
   "execution_count": 81,
   "metadata": {},
   "outputs": [
    {
     "data": {
      "text/plain": [
       "lang\n",
       "ru    0.865676\n",
       "en    0.134324\n",
       "Name: proportion, dtype: float64"
      ]
     },
     "execution_count": 81,
     "metadata": {},
     "output_type": "execute_result"
    }
   ],
   "source": [
    "rec_75.lang.value_counts(normalize=True)"
   ]
  },
  {
   "cell_type": "markdown",
   "metadata": {},
   "source": [
    "Соотношение языков в этой части  (> 75%)"
   ]
  },
  {
   "cell_type": "code",
   "execution_count": 82,
   "metadata": {},
   "outputs": [],
   "source": [
    "full = df.lang.value_counts(normalize=True).values\n",
    "lang75 = rec_75.lang.value_counts(normalize=True).values"
   ]
  },
  {
   "cell_type": "code",
   "execution_count": 83,
   "metadata": {},
   "outputs": [
    {
     "data": {
      "text/plain": [
       "TtestResult(statistic=2.9794040330840833e-16, pvalue=0.9999999999999998, df=1)"
      ]
     },
     "execution_count": 83,
     "metadata": {},
     "output_type": "execute_result"
    }
   ],
   "source": [
    "stats.ttest_rel(lang75, full)"
   ]
  },
  {
   "cell_type": "markdown",
   "metadata": {},
   "source": [
    "p-value больше  0.05, т.о. язык не влияет на полноту.\n",
    "\n",
    "Проверим аналогично количество продуктов и локаций для языка в этой части данных."
   ]
  },
  {
   "cell_type": "code",
   "execution_count": 85,
   "metadata": {},
   "outputs": [],
   "source": [
    "full_prod = df.groupby(\"lang\").agg({\"prod_num\": \"mean\"})[\"prod_num\"].values\n",
    "lang75_prod = rec_75.groupby(\"lang\").agg({\"prod_num\": \"mean\"})[\"prod_num\"].values\n",
    "full_locs = df.groupby(\"lang\").agg({\"locs_num\": \"mean\"})[\"locs_num\"].values\n",
    "lang75_locs = rec_75.groupby(\"lang\").agg({\"locs_num\": \"mean\"})[\"locs_num\"].values\n",
    "full_raw_locs_num = df.groupby(\"lang\").agg({\"raw_locs_num\": \"mean\"})[\"raw_locs_num\"].values\n",
    "lang75_raw_locs_num = rec_75.groupby(\"lang\").agg({\"raw_locs_num\": \"mean\"})[\"raw_locs_num\"].values"
   ]
  },
  {
   "cell_type": "code",
   "execution_count": 86,
   "metadata": {},
   "outputs": [
    {
     "data": {
      "text/plain": [
       "TtestResult(statistic=0.7630162715535498, pvalue=0.5850642131891524, df=1)"
      ]
     },
     "execution_count": 86,
     "metadata": {},
     "output_type": "execute_result"
    }
   ],
   "source": [
    "stats.ttest_rel(full_prod, lang75_prod)"
   ]
  },
  {
   "cell_type": "code",
   "execution_count": 87,
   "metadata": {},
   "outputs": [
    {
     "data": {
      "text/plain": [
       "TtestResult(statistic=-12.019574045528568, pvalue=0.05284355163103269, df=1)"
      ]
     },
     "execution_count": 87,
     "metadata": {},
     "output_type": "execute_result"
    }
   ],
   "source": [
    "stats.ttest_rel(full_locs, lang75_locs)"
   ]
  },
  {
   "cell_type": "code",
   "execution_count": 88,
   "metadata": {},
   "outputs": [
    {
     "data": {
      "text/plain": [
       "TtestResult(statistic=2.1143769090889517, pvalue=0.28124365163113507, df=1)"
      ]
     },
     "execution_count": 88,
     "metadata": {},
     "output_type": "execute_result"
    }
   ],
   "source": [
    "stats.ttest_rel(full_raw_locs_num, lang75_raw_locs_num)"
   ]
  },
  {
   "cell_type": "markdown",
   "metadata": {},
   "source": [
    "Статистическая знаимость для разных языков в группировке по продуктам и локациям не обнаружена и для высокой полноты. При этом p_value для локаций очень близка к статистически значимому параметру (хотя и не достигает его). Также степени разницы между средними значениями двух выборок невелики.\n",
    "\n",
    "Смотрим статистическую значимость по языку и длине саммари."
   ]
  },
  {
   "cell_type": "code",
   "execution_count": 91,
   "metadata": {},
   "outputs": [],
   "source": [
    "full_summary_len = df.groupby(\"lang\").agg({\"summary_len\": \"mean\"})[\"summary_len\"].values\n",
    "lang75_summary_len = (rec_75.groupby(\"lang\").agg({\"summary_len\": \"mean\"})[\"summary_len\"].values)"
   ]
  },
  {
   "cell_type": "code",
   "execution_count": 92,
   "metadata": {},
   "outputs": [
    {
     "data": {
      "text/plain": [
       "TtestResult(statistic=-9.32085824470319, pvalue=0.0680402938124193, df=1)"
      ]
     },
     "execution_count": 92,
     "metadata": {},
     "output_type": "execute_result"
    }
   ],
   "source": [
    "stats.ttest_rel(full_summary_len, lang75_summary_len)"
   ]
  },
  {
   "cell_type": "markdown",
   "metadata": {},
   "source": [
    "Также не выявлена статистическая значимость.\n",
    "\n",
    "\n",
    "Смотрим самую высокую полноту."
   ]
  },
  {
   "cell_type": "code",
   "execution_count": 99,
   "metadata": {},
   "outputs": [
    {
     "data": {
      "text/plain": [
       "(1347, 29)"
      ]
     },
     "execution_count": 99,
     "metadata": {},
     "output_type": "execute_result"
    }
   ],
   "source": [
    "rec_95 = df[df[\"recall_score\"] >= df[\"recall_score\"].quantile(0.95)]\n",
    "rec_95.shape"
   ]
  },
  {
   "cell_type": "code",
   "execution_count": 100,
   "metadata": {},
   "outputs": [
    {
     "data": {
      "text/plain": [
       "0.8463029861450195"
      ]
     },
     "execution_count": 100,
     "metadata": {},
     "output_type": "execute_result"
    }
   ],
   "source": [
    "df[\"recall_score\"].quantile(0.95)"
   ]
  },
  {
   "cell_type": "code",
   "execution_count": 101,
   "metadata": {},
   "outputs": [
    {
     "data": {
      "text/html": [
       "<div>\n",
       "<style scoped>\n",
       "    .dataframe tbody tr th:only-of-type {\n",
       "        vertical-align: middle;\n",
       "    }\n",
       "\n",
       "    .dataframe tbody tr th {\n",
       "        vertical-align: top;\n",
       "    }\n",
       "\n",
       "    .dataframe thead th {\n",
       "        text-align: right;\n",
       "    }\n",
       "</style>\n",
       "<table border=\"1\" class=\"dataframe\">\n",
       "  <thead>\n",
       "    <tr style=\"text-align: right;\">\n",
       "      <th></th>\n",
       "      <th>news_date</th>\n",
       "      <th>num_summary_sents</th>\n",
       "      <th>text_len</th>\n",
       "      <th>summary_len</th>\n",
       "      <th>text_unique_len</th>\n",
       "      <th>summary_unique_len</th>\n",
       "      <th>prod_num</th>\n",
       "      <th>locs_num</th>\n",
       "      <th>prod_locs_num</th>\n",
       "      <th>raw_locs_num</th>\n",
       "      <th>prod_match</th>\n",
       "      <th>locs_match</th>\n",
       "      <th>precision_score</th>\n",
       "      <th>recall_score</th>\n",
       "      <th>f1_score</th>\n",
       "    </tr>\n",
       "  </thead>\n",
       "  <tbody>\n",
       "    <tr>\n",
       "      <th>count</th>\n",
       "      <td>1347.000000</td>\n",
       "      <td>1347.000000</td>\n",
       "      <td>1347.000000</td>\n",
       "      <td>1347.000000</td>\n",
       "      <td>1347.000000</td>\n",
       "      <td>1347.000000</td>\n",
       "      <td>1347.000000</td>\n",
       "      <td>1347.000000</td>\n",
       "      <td>1347.000000</td>\n",
       "      <td>1347.000000</td>\n",
       "      <td>1347.000000</td>\n",
       "      <td>1347.000000</td>\n",
       "      <td>1347.000000</td>\n",
       "      <td>1347.000000</td>\n",
       "      <td>1347.000000</td>\n",
       "    </tr>\n",
       "    <tr>\n",
       "      <th>mean</th>\n",
       "      <td>2022.911656</td>\n",
       "      <td>5.221232</td>\n",
       "      <td>157.708241</td>\n",
       "      <td>124.726058</td>\n",
       "      <td>92.878990</td>\n",
       "      <td>75.025984</td>\n",
       "      <td>3.371938</td>\n",
       "      <td>3.787676</td>\n",
       "      <td>7.159614</td>\n",
       "      <td>4.736451</td>\n",
       "      <td>2.929473</td>\n",
       "      <td>4.234595</td>\n",
       "      <td>0.950762</td>\n",
       "      <td>0.905742</td>\n",
       "      <td>0.927428</td>\n",
       "    </tr>\n",
       "    <tr>\n",
       "      <th>std</th>\n",
       "      <td>0.717271</td>\n",
       "      <td>2.939468</td>\n",
       "      <td>136.487818</td>\n",
       "      <td>62.184681</td>\n",
       "      <td>56.793618</td>\n",
       "      <td>26.755345</td>\n",
       "      <td>4.332799</td>\n",
       "      <td>3.209995</td>\n",
       "      <td>5.602661</td>\n",
       "      <td>3.709495</td>\n",
       "      <td>3.149365</td>\n",
       "      <td>3.293457</td>\n",
       "      <td>0.028174</td>\n",
       "      <td>0.043518</td>\n",
       "      <td>0.033657</td>\n",
       "    </tr>\n",
       "    <tr>\n",
       "      <th>min</th>\n",
       "      <td>2020.000000</td>\n",
       "      <td>1.000000</td>\n",
       "      <td>32.000000</td>\n",
       "      <td>28.000000</td>\n",
       "      <td>26.000000</td>\n",
       "      <td>25.000000</td>\n",
       "      <td>1.000000</td>\n",
       "      <td>1.000000</td>\n",
       "      <td>2.000000</td>\n",
       "      <td>1.000000</td>\n",
       "      <td>0.000000</td>\n",
       "      <td>0.000000</td>\n",
       "      <td>0.674901</td>\n",
       "      <td>0.846303</td>\n",
       "      <td>0.768854</td>\n",
       "    </tr>\n",
       "    <tr>\n",
       "      <th>25%</th>\n",
       "      <td>2022.000000</td>\n",
       "      <td>3.000000</td>\n",
       "      <td>101.500000</td>\n",
       "      <td>84.000000</td>\n",
       "      <td>67.000000</td>\n",
       "      <td>57.000000</td>\n",
       "      <td>1.000000</td>\n",
       "      <td>2.000000</td>\n",
       "      <td>4.000000</td>\n",
       "      <td>2.000000</td>\n",
       "      <td>1.000000</td>\n",
       "      <td>2.000000</td>\n",
       "      <td>0.932708</td>\n",
       "      <td>0.868201</td>\n",
       "      <td>0.900899</td>\n",
       "    </tr>\n",
       "    <tr>\n",
       "      <th>50%</th>\n",
       "      <td>2023.000000</td>\n",
       "      <td>5.000000</td>\n",
       "      <td>135.000000</td>\n",
       "      <td>110.000000</td>\n",
       "      <td>85.000000</td>\n",
       "      <td>69.000000</td>\n",
       "      <td>2.000000</td>\n",
       "      <td>3.000000</td>\n",
       "      <td>6.000000</td>\n",
       "      <td>4.000000</td>\n",
       "      <td>2.000000</td>\n",
       "      <td>3.000000</td>\n",
       "      <td>0.953360</td>\n",
       "      <td>0.895183</td>\n",
       "      <td>0.920106</td>\n",
       "    </tr>\n",
       "    <tr>\n",
       "      <th>75%</th>\n",
       "      <td>2023.000000</td>\n",
       "      <td>6.000000</td>\n",
       "      <td>182.000000</td>\n",
       "      <td>148.500000</td>\n",
       "      <td>108.000000</td>\n",
       "      <td>89.000000</td>\n",
       "      <td>4.000000</td>\n",
       "      <td>5.000000</td>\n",
       "      <td>9.000000</td>\n",
       "      <td>6.000000</td>\n",
       "      <td>3.000000</td>\n",
       "      <td>5.000000</td>\n",
       "      <td>0.971625</td>\n",
       "      <td>0.941946</td>\n",
       "      <td>0.956225</td>\n",
       "    </tr>\n",
       "    <tr>\n",
       "      <th>max</th>\n",
       "      <td>2024.000000</td>\n",
       "      <td>32.000000</td>\n",
       "      <td>3657.000000</td>\n",
       "      <td>514.000000</td>\n",
       "      <td>1488.000000</td>\n",
       "      <td>209.000000</td>\n",
       "      <td>100.000000</td>\n",
       "      <td>24.000000</td>\n",
       "      <td>102.000000</td>\n",
       "      <td>51.000000</td>\n",
       "      <td>26.000000</td>\n",
       "      <td>25.000000</td>\n",
       "      <td>1.000000</td>\n",
       "      <td>1.000000</td>\n",
       "      <td>1.000000</td>\n",
       "    </tr>\n",
       "  </tbody>\n",
       "</table>\n",
       "</div>"
      ],
      "text/plain": [
       "         news_date  num_summary_sents     text_len  summary_len  \\\n",
       "count  1347.000000        1347.000000  1347.000000  1347.000000   \n",
       "mean   2022.911656           5.221232   157.708241   124.726058   \n",
       "std       0.717271           2.939468   136.487818    62.184681   \n",
       "min    2020.000000           1.000000    32.000000    28.000000   \n",
       "25%    2022.000000           3.000000   101.500000    84.000000   \n",
       "50%    2023.000000           5.000000   135.000000   110.000000   \n",
       "75%    2023.000000           6.000000   182.000000   148.500000   \n",
       "max    2024.000000          32.000000  3657.000000   514.000000   \n",
       "\n",
       "       text_unique_len  summary_unique_len     prod_num     locs_num  \\\n",
       "count      1347.000000         1347.000000  1347.000000  1347.000000   \n",
       "mean         92.878990           75.025984     3.371938     3.787676   \n",
       "std          56.793618           26.755345     4.332799     3.209995   \n",
       "min          26.000000           25.000000     1.000000     1.000000   \n",
       "25%          67.000000           57.000000     1.000000     2.000000   \n",
       "50%          85.000000           69.000000     2.000000     3.000000   \n",
       "75%         108.000000           89.000000     4.000000     5.000000   \n",
       "max        1488.000000          209.000000   100.000000    24.000000   \n",
       "\n",
       "       prod_locs_num  raw_locs_num   prod_match   locs_match  precision_score  \\\n",
       "count    1347.000000   1347.000000  1347.000000  1347.000000      1347.000000   \n",
       "mean        7.159614      4.736451     2.929473     4.234595         0.950762   \n",
       "std         5.602661      3.709495     3.149365     3.293457         0.028174   \n",
       "min         2.000000      1.000000     0.000000     0.000000         0.674901   \n",
       "25%         4.000000      2.000000     1.000000     2.000000         0.932708   \n",
       "50%         6.000000      4.000000     2.000000     3.000000         0.953360   \n",
       "75%         9.000000      6.000000     3.000000     5.000000         0.971625   \n",
       "max       102.000000     51.000000    26.000000    25.000000         1.000000   \n",
       "\n",
       "       recall_score     f1_score  \n",
       "count   1347.000000  1347.000000  \n",
       "mean       0.905742     0.927428  \n",
       "std        0.043518     0.033657  \n",
       "min        0.846303     0.768854  \n",
       "25%        0.868201     0.900899  \n",
       "50%        0.895183     0.920106  \n",
       "75%        0.941946     0.956225  \n",
       "max        1.000000     1.000000  "
      ]
     },
     "execution_count": 101,
     "metadata": {},
     "output_type": "execute_result"
    }
   ],
   "source": [
    "rec_95.describe()"
   ]
  },
  {
   "cell_type": "code",
   "execution_count": 102,
   "metadata": {},
   "outputs": [
    {
     "data": {
      "text/plain": [
       "lang\n",
       "ru    0.944321\n",
       "en    0.055679\n",
       "Name: proportion, dtype: float64"
      ]
     },
     "execution_count": 102,
     "metadata": {},
     "output_type": "execute_result"
    }
   ],
   "source": [
    "rec_95.lang.value_counts(normalize=True)"
   ]
  },
  {
   "cell_type": "markdown",
   "metadata": {},
   "source": [
    "Соотношение языков в этой части  (> 95%)"
   ]
  },
  {
   "cell_type": "code",
   "execution_count": 103,
   "metadata": {},
   "outputs": [
    {
     "data": {
      "text/plain": [
       "TtestResult(statistic=1.2709652856581924e-16, pvalue=1.0, df=1)"
      ]
     },
     "execution_count": 103,
     "metadata": {},
     "output_type": "execute_result"
    }
   ],
   "source": [
    "lang95 = rec_95.lang.value_counts(normalize=True).values\n",
    "stats.ttest_rel(lang95, full)"
   ]
  },
  {
   "cell_type": "code",
   "execution_count": 104,
   "metadata": {},
   "outputs": [],
   "source": [
    "lang95_prod = rec_95.groupby(\"lang\").agg({\"prod_num\": \"mean\"})[\"prod_num\"].values\n",
    "lang95_locs = rec_95.groupby(\"lang\").agg({\"locs_num\": \"mean\"})[\"locs_num\"].values\n",
    "lang95_raw_locs_num = rec_95.groupby(\"lang\").agg({\"raw_locs_num\": \"mean\"})[\"raw_locs_num\"].values"
   ]
  },
  {
   "cell_type": "code",
   "execution_count": 105,
   "metadata": {},
   "outputs": [
    {
     "data": {
      "text/plain": [
       "TtestResult(statistic=19.497304036023703, pvalue=0.032623096250881445, df=1)"
      ]
     },
     "execution_count": 105,
     "metadata": {},
     "output_type": "execute_result"
    }
   ],
   "source": [
    "stats.ttest_rel(full_prod, lang95_prod)"
   ]
  },
  {
   "cell_type": "code",
   "execution_count": 106,
   "metadata": {},
   "outputs": [
    {
     "data": {
      "text/plain": [
       "TtestResult(statistic=15.860594724564216, pvalue=0.04008539541250683, df=1)"
      ]
     },
     "execution_count": 106,
     "metadata": {},
     "output_type": "execute_result"
    }
   ],
   "source": [
    "stats.ttest_rel(full_prod, lang95_locs)"
   ]
  },
  {
   "cell_type": "code",
   "execution_count": 107,
   "metadata": {},
   "outputs": [
    {
     "data": {
      "text/plain": [
       "TtestResult(statistic=14.595766432068654, pvalue=0.04354868698024343, df=1)"
      ]
     },
     "execution_count": 107,
     "metadata": {},
     "output_type": "execute_result"
    }
   ],
   "source": [
    "stats.ttest_rel(full_prod, lang95_raw_locs_num)"
   ]
  },
  {
   "cell_type": "code",
   "execution_count": 110,
   "metadata": {},
   "outputs": [
    {
     "name": "stdout",
     "output_type": "stream",
     "text": [
      "full_prod: 59.3852 +/- 3.3183\n",
      "lang95_prod: 3.7867 +/- 0.4667\n"
     ]
    }
   ],
   "source": [
    "print(f\"full_prod: {round(np.mean(full_prod), 4)} +/- {round(np.std(full_prod), 4)}\")\n",
    "print(f\"lang95_prod: {round(np.mean(lang95_prod), 4)} +/- {round(np.std(lang95_prod), 4)}\")"
   ]
  },
  {
   "cell_type": "code",
   "execution_count": 111,
   "metadata": {},
   "outputs": [
    {
     "data": {
      "text/plain": [
       "TtestResult(statistic=-30.166373302996835, pvalue=0.021095898009771123, df=1)"
      ]
     },
     "execution_count": 111,
     "metadata": {},
     "output_type": "execute_result"
    }
   ],
   "source": [
    "lang95_summary_len = (\n",
    "    rec_95.groupby(\"lang\").agg({\"summary_len\": \"mean\"})[\"summary_len\"].values\n",
    ")\n",
    "stats.ttest_rel(full_summary_len, lang95_summary_len)"
   ]
  },
  {
   "cell_type": "code",
   "execution_count": 113,
   "metadata": {},
   "outputs": [
    {
     "name": "stdout",
     "output_type": "stream",
     "text": [
      "full_prod: 59.3852 +/- 3.3183\n",
      "lang95_summary_len: 125.7207 +/- 1.1193\n"
     ]
    }
   ],
   "source": [
    "print(\n",
    "    f\"full_prod: {round(np.mean(full_summary_len), 4)} +/- {round(np.std(full_summary_len), 4)}\"\n",
    ")\n",
    "print(\n",
    "    f\"lang95_summary_len: {round(np.mean(lang95_summary_len), 4)} +/- {round(np.std(lang95_summary_len), 4)}\"\n",
    ")"
   ]
  },
  {
   "cell_type": "markdown",
   "metadata": {},
   "source": [
    "В саммари, получившими максимально высокий recall выжными оказываются все параметры в разбивке по языкам (относительно полной выборки)"
   ]
  }
 ],
 "metadata": {
  "kernelspec": {
   "display_name": "Python 3",
   "language": "python",
   "name": "python3"
  },
  "language_info": {
   "codemirror_mode": {
    "name": "ipython",
    "version": 3
   },
   "file_extension": ".py",
   "mimetype": "text/x-python",
   "name": "python",
   "nbconvert_exporter": "python",
   "pygments_lexer": "ipython3",
   "version": "3.11.2"
  }
 },
 "nbformat": 4,
 "nbformat_minor": 2
}
